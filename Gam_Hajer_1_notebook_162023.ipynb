{
 "cells": [
  {
   "cell_type": "markdown",
   "id": "e7316a32",
   "metadata": {},
   "source": [
    "<div style=\" background-color: RGB(0,114,200);\" >\n",
    "<h1 style=\"margin: auto; padding: 20px 0; color:#fff; text-align: center\">PROJET 4 DATA ANALYST</h1>\n",
    "<h2 style=\"margin: auto; padding: 20px 0; color:#fff; text-align: center\">Réalisez une étude de santé publique avec R ou Python\n",
    "</h2>\n",
    "</div>"
   ]
  },
  {
   "cell_type": "markdown",
   "id": "6e00fa8a",
   "metadata": {},
   "source": [
    "# OBJECTIF DE CE NOTEBOOK\n",
    "\n",
    "Bienvenue dans l'outil plébiscité par les analystes de données Jupyter.\n",
    "\n",
    "Il s'agit d'un outil permettant de mixer et d'alterner codes, textes et graphique.\n",
    "\n",
    "Cet outil est formidable pour plusieurs raisons:\n",
    "\n",
    "+ il permet de tester des lignes de codes au fur et à mesure de votre rédaction, de constater immédiatement le résultat d'un instruction, de la corriger si nécessaire.\n",
    "+ De rédiger du texte pour expliquer l'approche suivie ou les résultats d'une analyse et de le mettre en forme grâce à du code html ou plus simple avec **Markdown**\n",
    "+ d'agrémenter de graphiques\n",
    "\n",
    "Pour vous aider dans vos premiers pas à l'usage de Jupyter et de Python, nous avons rédigé ce notebook en vous indiquant les instructions à suivre.\n",
    "\n",
    "Il vous suffit pour cela de saisir le code Python répondant à l'instruction donnée.\n",
    "\n",
    "Vous verrez de temps à autre le code Python répondant à une instruction donnée mais cela est fait pour vous aider à comprendre la nature du travail qui vous est demandée.\n",
    "\n",
    "Et garder à l'esprit, qu'il n'y a pas de solution unique pour résoudre un problème et qu'il y a autant de résolutions de problèmes que de développeurs ;)...\n",
    "\n"
   ]
  },
  {
   "cell_type": "markdown",
   "id": "c33bcf57",
   "metadata": {},
   "source": [
    "Note jeremy \n",
    "Est ce qu'il faut faire le calcul de la sous nutrition sur les pays qu'on a ? \n",
    "Est ce qu'il faut faire des graphiques ?\n",
    "Rajouter le soja\n",
    "La liste des céréales est difficile a trouver ..."
   ]
  },
  {
   "cell_type": "markdown",
   "id": "9dad8326",
   "metadata": {},
   "source": [
    "<div style=\"background-color: RGB(0,150,250);\" >\n",
    "<h2 style=\"margin: auto; padding: 20px; color:#fff; \">Etape 1 - Importation des librairies et chargement des fichiers</h2>\n",
    "</div>"
   ]
  },
  {
   "cell_type": "markdown",
   "id": "4ee69457",
   "metadata": {},
   "source": [
    "<div style=\"border: 1px solid RGB(0,150,250);\" >\n",
    "<h3 style=\"margin: auto; padding: 20px; color: RGB(0,150,250); \">1.1 - Importation des librairies</h3>\n",
    "</div>"
   ]
  },
  {
   "cell_type": "code",
   "execution_count": 4,
   "id": "ffe62b56",
   "metadata": {},
   "outputs": [],
   "source": [
    "import pandas as pd\n",
    "import matplotlib.pyplot as plt\n",
    "import seaborn as sns"
   ]
  },
  {
   "cell_type": "markdown",
   "id": "8bd8e7ed",
   "metadata": {},
   "source": [
    "<div style=\"border: 1px solid RGB(0,150,250);\" >\n",
    "<h3 style=\"margin: auto; padding: 20px; color: RGB(0,150,250); \">1.2 - Chargement des fichiers Excel</h3>\n",
    "</div>"
   ]
  },
  {
   "cell_type": "code",
   "execution_count": 54,
   "id": "b304f108",
   "metadata": {},
   "outputs": [],
   "source": [
    "population = pd.read_csv('population.csv')\n",
    "\n",
    "dispo_alimentaire = pd.read_csv('dispo_alimentaire.csv')\n",
    "\n",
    "\n",
    "aide_alimentaire = pd.read_csv('aide_alimentaire.csv')\n",
    "\n",
    "\n",
    "sous_nutrition =pd.read_csv('sous_nutrition.csv')\n"
   ]
  },
  {
   "cell_type": "markdown",
   "id": "1249847a",
   "metadata": {},
   "source": [
    "<div style=\"background-color: RGB(0,150,250);\" >\n",
    "<h2 style=\"margin: auto; padding: 20px; color:#fff; \">Etape 2 - Analyse exploratoire des fichiers</h2>\n",
    "</div>"
   ]
  },
  {
   "cell_type": "markdown",
   "id": "235e6e91",
   "metadata": {},
   "source": [
    "<div style=\"border: 1px solid RGB(0,150,250);\" >\n",
    "<h3 style=\"margin: auto; padding: 20px; color: RGB(0,150,250); \">2.1 - Analyse exploratoire du fichier population</h3>\n",
    "</div>"
   ]
  },
  {
   "cell_type": "code",
   "execution_count": 55,
   "id": "e6b639d2",
   "metadata": {},
   "outputs": [
    {
     "name": "stdout",
     "output_type": "stream",
     "text": [
      "Le tableau comporte 1416 observation(s) ou article(s)\n",
      "Le tableau comporte 3 colonne(s)\n"
     ]
    }
   ],
   "source": [
    "#Afficher les dimensions du dataset\n",
    "print(\"Le tableau comporte {} observation(s) ou article(s)\".format(population.shape[0]))\n",
    "print(\"Le tableau comporte {} colonne(s)\".format(population.shape[1]))"
   ]
  },
  {
   "cell_type": "code",
   "execution_count": 56,
   "id": "fbbdfd5c",
   "metadata": {},
   "outputs": [
    {
     "name": "stdout",
     "output_type": "stream",
     "text": [
      "<class 'pandas.core.frame.DataFrame'>\n",
      "RangeIndex: 1416 entries, 0 to 1415\n",
      "Data columns (total 3 columns):\n",
      " #   Column  Non-Null Count  Dtype  \n",
      "---  ------  --------------  -----  \n",
      " 0   Zone    1416 non-null   object \n",
      " 1   Année   1416 non-null   int64  \n",
      " 2   Valeur  1416 non-null   float64\n",
      "dtypes: float64(1), int64(1), object(1)\n",
      "memory usage: 33.3+ KB\n"
     ]
    }
   ],
   "source": [
    "#consululter le nombre des colonne\n",
    "#La nature des données dans chacune des colonnes\n",
    "#Le nombre de vaConsulter le nombre de colonnesleurs présentes dans chacune des colonnes\n",
    "population.info()"
   ]
  },
  {
   "cell_type": "code",
   "execution_count": 57,
   "id": "3e50d9e6",
   "metadata": {},
   "outputs": [
    {
     "data": {
      "text/html": [
       "<div>\n",
       "<style scoped>\n",
       "    .dataframe tbody tr th:only-of-type {\n",
       "        vertical-align: middle;\n",
       "    }\n",
       "\n",
       "    .dataframe tbody tr th {\n",
       "        vertical-align: top;\n",
       "    }\n",
       "\n",
       "    .dataframe thead th {\n",
       "        text-align: right;\n",
       "    }\n",
       "</style>\n",
       "<table border=\"1\" class=\"dataframe\">\n",
       "  <thead>\n",
       "    <tr style=\"text-align: right;\">\n",
       "      <th></th>\n",
       "      <th>Zone</th>\n",
       "      <th>Année</th>\n",
       "      <th>Valeur</th>\n",
       "    </tr>\n",
       "  </thead>\n",
       "  <tbody>\n",
       "    <tr>\n",
       "      <th>0</th>\n",
       "      <td>Afghanistan</td>\n",
       "      <td>2013</td>\n",
       "      <td>32269.589</td>\n",
       "    </tr>\n",
       "    <tr>\n",
       "      <th>1</th>\n",
       "      <td>Afghanistan</td>\n",
       "      <td>2014</td>\n",
       "      <td>33370.794</td>\n",
       "    </tr>\n",
       "    <tr>\n",
       "      <th>2</th>\n",
       "      <td>Afghanistan</td>\n",
       "      <td>2015</td>\n",
       "      <td>34413.603</td>\n",
       "    </tr>\n",
       "    <tr>\n",
       "      <th>3</th>\n",
       "      <td>Afghanistan</td>\n",
       "      <td>2016</td>\n",
       "      <td>35383.032</td>\n",
       "    </tr>\n",
       "    <tr>\n",
       "      <th>4</th>\n",
       "      <td>Afghanistan</td>\n",
       "      <td>2017</td>\n",
       "      <td>36296.113</td>\n",
       "    </tr>\n",
       "  </tbody>\n",
       "</table>\n",
       "</div>"
      ],
      "text/plain": [
       "          Zone  Année     Valeur\n",
       "0  Afghanistan   2013  32269.589\n",
       "1  Afghanistan   2014  33370.794\n",
       "2  Afghanistan   2015  34413.603\n",
       "3  Afghanistan   2016  35383.032\n",
       "4  Afghanistan   2017  36296.113"
      ]
     },
     "execution_count": 57,
     "metadata": {},
     "output_type": "execute_result"
    }
   ],
   "source": [
    "#Affichage les 5 premières lignes de la table\n",
    "population.head()"
   ]
  },
  {
   "cell_type": "code",
   "execution_count": 58,
   "id": "ab1a4af4",
   "metadata": {},
   "outputs": [],
   "source": [
    "#Nous allons harmoniser les unités. Pour cela, nous avons décidé de multiplier la population par 1000\n",
    "#Multiplication de la colonne valeur par 1000\n",
    "population ['Valeur'] = population ['Valeur']*1000"
   ]
  },
  {
   "cell_type": "code",
   "execution_count": 59,
   "id": "38836b61",
   "metadata": {},
   "outputs": [],
   "source": [
    "#changement du nom de la colonne Valeur par Population\n",
    "population.rename(columns = {'Valeur' : 'population'} ,inplace=True)\n"
   ]
  },
  {
   "cell_type": "code",
   "execution_count": 60,
   "id": "ff707561",
   "metadata": {},
   "outputs": [
    {
     "data": {
      "text/html": [
       "<div>\n",
       "<style scoped>\n",
       "    .dataframe tbody tr th:only-of-type {\n",
       "        vertical-align: middle;\n",
       "    }\n",
       "\n",
       "    .dataframe tbody tr th {\n",
       "        vertical-align: top;\n",
       "    }\n",
       "\n",
       "    .dataframe thead th {\n",
       "        text-align: right;\n",
       "    }\n",
       "</style>\n",
       "<table border=\"1\" class=\"dataframe\">\n",
       "  <thead>\n",
       "    <tr style=\"text-align: right;\">\n",
       "      <th></th>\n",
       "      <th>Zone</th>\n",
       "      <th>Année</th>\n",
       "      <th>population</th>\n",
       "    </tr>\n",
       "  </thead>\n",
       "  <tbody>\n",
       "    <tr>\n",
       "      <th>0</th>\n",
       "      <td>Afghanistan</td>\n",
       "      <td>2013</td>\n",
       "      <td>32269589.0</td>\n",
       "    </tr>\n",
       "    <tr>\n",
       "      <th>1</th>\n",
       "      <td>Afghanistan</td>\n",
       "      <td>2014</td>\n",
       "      <td>33370794.0</td>\n",
       "    </tr>\n",
       "    <tr>\n",
       "      <th>2</th>\n",
       "      <td>Afghanistan</td>\n",
       "      <td>2015</td>\n",
       "      <td>34413603.0</td>\n",
       "    </tr>\n",
       "    <tr>\n",
       "      <th>3</th>\n",
       "      <td>Afghanistan</td>\n",
       "      <td>2016</td>\n",
       "      <td>35383032.0</td>\n",
       "    </tr>\n",
       "    <tr>\n",
       "      <th>4</th>\n",
       "      <td>Afghanistan</td>\n",
       "      <td>2017</td>\n",
       "      <td>36296113.0</td>\n",
       "    </tr>\n",
       "  </tbody>\n",
       "</table>\n",
       "</div>"
      ],
      "text/plain": [
       "          Zone  Année  population\n",
       "0  Afghanistan   2013  32269589.0\n",
       "1  Afghanistan   2014  33370794.0\n",
       "2  Afghanistan   2015  34413603.0\n",
       "3  Afghanistan   2016  35383032.0\n",
       "4  Afghanistan   2017  36296113.0"
      ]
     },
     "execution_count": 60,
     "metadata": {},
     "output_type": "execute_result"
    }
   ],
   "source": [
    "#Affichage les 5 premières lignes de la table pour voir les modifications\n",
    "population.head()"
   ]
  },
  {
   "cell_type": "markdown",
   "id": "4224b896",
   "metadata": {},
   "source": [
    "<div style=\"border: 1px solid RGB(0,150,250);\" >\n",
    "<h3 style=\"margin: auto; padding: 20px; color: RGB(0,150,250); \">2.2 - Analyse exploratoire du fichier disponibilité alimentaire</h3>\n",
    "</div>"
   ]
  },
  {
   "cell_type": "code",
   "execution_count": 61,
   "id": "38f5b838",
   "metadata": {},
   "outputs": [
    {
     "name": "stdout",
     "output_type": "stream",
     "text": [
      "Le tableau comporte 15605 observation(s) ou article(s)\n",
      "Le tableau comporte 18 colonne(s)\n"
     ]
    }
   ],
   "source": [
    "#Afficher les dimensions du dataset\n",
    "print(\"Le tableau comporte {} observation(s) ou article(s)\".format(dispo_alimentaire.shape[0]))\n",
    "print(\"Le tableau comporte {} colonne(s)\".format(dispo_alimentaire.shape[1]))"
   ]
  },
  {
   "cell_type": "code",
   "execution_count": 62,
   "id": "99735a22",
   "metadata": {},
   "outputs": [
    {
     "name": "stdout",
     "output_type": "stream",
     "text": [
      "<class 'pandas.core.frame.DataFrame'>\n",
      "RangeIndex: 15605 entries, 0 to 15604\n",
      "Data columns (total 18 columns):\n",
      " #   Column                                                         Non-Null Count  Dtype  \n",
      "---  ------                                                         --------------  -----  \n",
      " 0   Zone                                                           15605 non-null  object \n",
      " 1   Produit                                                        15605 non-null  object \n",
      " 2   Origine                                                        15605 non-null  object \n",
      " 3   Aliments pour animaux                                          2720 non-null   float64\n",
      " 4   Autres Utilisations                                            5496 non-null   float64\n",
      " 5   Disponibilité alimentaire (Kcal/personne/jour)                 14241 non-null  float64\n",
      " 6   Disponibilité alimentaire en quantité (kg/personne/an)         14015 non-null  float64\n",
      " 7   Disponibilité de matière grasse en quantité (g/personne/jour)  11794 non-null  float64\n",
      " 8   Disponibilité de protéines en quantité (g/personne/jour)       11561 non-null  float64\n",
      " 9   Disponibilité intérieure                                       15382 non-null  float64\n",
      " 10  Exportations - Quantité                                        12226 non-null  float64\n",
      " 11  Importations - Quantité                                        14852 non-null  float64\n",
      " 12  Nourriture                                                     14015 non-null  float64\n",
      " 13  Pertes                                                         4278 non-null   float64\n",
      " 14  Production                                                     9180 non-null   float64\n",
      " 15  Semences                                                       2091 non-null   float64\n",
      " 16  Traitement                                                     2292 non-null   float64\n",
      " 17  Variation de stock                                             6776 non-null   float64\n",
      "dtypes: float64(15), object(3)\n",
      "memory usage: 2.1+ MB\n"
     ]
    }
   ],
   "source": [
    "#Consulter le nombre de colonnes\n",
    "dispo_alimentaire.info()"
   ]
  },
  {
   "cell_type": "code",
   "execution_count": 63,
   "id": "fd6e649c",
   "metadata": {},
   "outputs": [
    {
     "data": {
      "text/html": [
       "<div>\n",
       "<style scoped>\n",
       "    .dataframe tbody tr th:only-of-type {\n",
       "        vertical-align: middle;\n",
       "    }\n",
       "\n",
       "    .dataframe tbody tr th {\n",
       "        vertical-align: top;\n",
       "    }\n",
       "\n",
       "    .dataframe thead th {\n",
       "        text-align: right;\n",
       "    }\n",
       "</style>\n",
       "<table border=\"1\" class=\"dataframe\">\n",
       "  <thead>\n",
       "    <tr style=\"text-align: right;\">\n",
       "      <th></th>\n",
       "      <th>Zone</th>\n",
       "      <th>Produit</th>\n",
       "      <th>Origine</th>\n",
       "      <th>Aliments pour animaux</th>\n",
       "      <th>Autres Utilisations</th>\n",
       "      <th>Disponibilité alimentaire (Kcal/personne/jour)</th>\n",
       "      <th>Disponibilité alimentaire en quantité (kg/personne/an)</th>\n",
       "      <th>Disponibilité de matière grasse en quantité (g/personne/jour)</th>\n",
       "      <th>Disponibilité de protéines en quantité (g/personne/jour)</th>\n",
       "      <th>Disponibilité intérieure</th>\n",
       "      <th>Exportations - Quantité</th>\n",
       "      <th>Importations - Quantité</th>\n",
       "      <th>Nourriture</th>\n",
       "      <th>Pertes</th>\n",
       "      <th>Production</th>\n",
       "      <th>Semences</th>\n",
       "      <th>Traitement</th>\n",
       "      <th>Variation de stock</th>\n",
       "    </tr>\n",
       "  </thead>\n",
       "  <tbody>\n",
       "    <tr>\n",
       "      <th>0</th>\n",
       "      <td>Afghanistan</td>\n",
       "      <td>Abats Comestible</td>\n",
       "      <td>animale</td>\n",
       "      <td>NaN</td>\n",
       "      <td>NaN</td>\n",
       "      <td>5.0</td>\n",
       "      <td>1.72</td>\n",
       "      <td>0.20</td>\n",
       "      <td>0.77</td>\n",
       "      <td>53.0</td>\n",
       "      <td>NaN</td>\n",
       "      <td>NaN</td>\n",
       "      <td>53.0</td>\n",
       "      <td>NaN</td>\n",
       "      <td>53.0</td>\n",
       "      <td>NaN</td>\n",
       "      <td>NaN</td>\n",
       "      <td>NaN</td>\n",
       "    </tr>\n",
       "    <tr>\n",
       "      <th>1</th>\n",
       "      <td>Afghanistan</td>\n",
       "      <td>Agrumes, Autres</td>\n",
       "      <td>vegetale</td>\n",
       "      <td>NaN</td>\n",
       "      <td>NaN</td>\n",
       "      <td>1.0</td>\n",
       "      <td>1.29</td>\n",
       "      <td>0.01</td>\n",
       "      <td>0.02</td>\n",
       "      <td>41.0</td>\n",
       "      <td>2.0</td>\n",
       "      <td>40.0</td>\n",
       "      <td>39.0</td>\n",
       "      <td>2.0</td>\n",
       "      <td>3.0</td>\n",
       "      <td>NaN</td>\n",
       "      <td>NaN</td>\n",
       "      <td>NaN</td>\n",
       "    </tr>\n",
       "    <tr>\n",
       "      <th>2</th>\n",
       "      <td>Afghanistan</td>\n",
       "      <td>Aliments pour enfants</td>\n",
       "      <td>vegetale</td>\n",
       "      <td>NaN</td>\n",
       "      <td>NaN</td>\n",
       "      <td>1.0</td>\n",
       "      <td>0.06</td>\n",
       "      <td>0.01</td>\n",
       "      <td>0.03</td>\n",
       "      <td>2.0</td>\n",
       "      <td>NaN</td>\n",
       "      <td>2.0</td>\n",
       "      <td>2.0</td>\n",
       "      <td>NaN</td>\n",
       "      <td>NaN</td>\n",
       "      <td>NaN</td>\n",
       "      <td>NaN</td>\n",
       "      <td>NaN</td>\n",
       "    </tr>\n",
       "    <tr>\n",
       "      <th>3</th>\n",
       "      <td>Afghanistan</td>\n",
       "      <td>Ananas</td>\n",
       "      <td>vegetale</td>\n",
       "      <td>NaN</td>\n",
       "      <td>NaN</td>\n",
       "      <td>0.0</td>\n",
       "      <td>0.00</td>\n",
       "      <td>NaN</td>\n",
       "      <td>NaN</td>\n",
       "      <td>0.0</td>\n",
       "      <td>NaN</td>\n",
       "      <td>0.0</td>\n",
       "      <td>0.0</td>\n",
       "      <td>NaN</td>\n",
       "      <td>NaN</td>\n",
       "      <td>NaN</td>\n",
       "      <td>NaN</td>\n",
       "      <td>NaN</td>\n",
       "    </tr>\n",
       "    <tr>\n",
       "      <th>4</th>\n",
       "      <td>Afghanistan</td>\n",
       "      <td>Bananes</td>\n",
       "      <td>vegetale</td>\n",
       "      <td>NaN</td>\n",
       "      <td>NaN</td>\n",
       "      <td>4.0</td>\n",
       "      <td>2.70</td>\n",
       "      <td>0.02</td>\n",
       "      <td>0.05</td>\n",
       "      <td>82.0</td>\n",
       "      <td>NaN</td>\n",
       "      <td>82.0</td>\n",
       "      <td>82.0</td>\n",
       "      <td>NaN</td>\n",
       "      <td>NaN</td>\n",
       "      <td>NaN</td>\n",
       "      <td>NaN</td>\n",
       "      <td>NaN</td>\n",
       "    </tr>\n",
       "  </tbody>\n",
       "</table>\n",
       "</div>"
      ],
      "text/plain": [
       "          Zone                Produit   Origine  Aliments pour animaux  \\\n",
       "0  Afghanistan       Abats Comestible   animale                    NaN   \n",
       "1  Afghanistan        Agrumes, Autres  vegetale                    NaN   \n",
       "2  Afghanistan  Aliments pour enfants  vegetale                    NaN   \n",
       "3  Afghanistan                 Ananas  vegetale                    NaN   \n",
       "4  Afghanistan                Bananes  vegetale                    NaN   \n",
       "\n",
       "   Autres Utilisations  Disponibilité alimentaire (Kcal/personne/jour)  \\\n",
       "0                  NaN                                             5.0   \n",
       "1                  NaN                                             1.0   \n",
       "2                  NaN                                             1.0   \n",
       "3                  NaN                                             0.0   \n",
       "4                  NaN                                             4.0   \n",
       "\n",
       "   Disponibilité alimentaire en quantité (kg/personne/an)  \\\n",
       "0                                               1.72        \n",
       "1                                               1.29        \n",
       "2                                               0.06        \n",
       "3                                               0.00        \n",
       "4                                               2.70        \n",
       "\n",
       "   Disponibilité de matière grasse en quantité (g/personne/jour)  \\\n",
       "0                                               0.20               \n",
       "1                                               0.01               \n",
       "2                                               0.01               \n",
       "3                                                NaN               \n",
       "4                                               0.02               \n",
       "\n",
       "   Disponibilité de protéines en quantité (g/personne/jour)  \\\n",
       "0                                               0.77          \n",
       "1                                               0.02          \n",
       "2                                               0.03          \n",
       "3                                                NaN          \n",
       "4                                               0.05          \n",
       "\n",
       "   Disponibilité intérieure  Exportations - Quantité  Importations - Quantité  \\\n",
       "0                      53.0                      NaN                      NaN   \n",
       "1                      41.0                      2.0                     40.0   \n",
       "2                       2.0                      NaN                      2.0   \n",
       "3                       0.0                      NaN                      0.0   \n",
       "4                      82.0                      NaN                     82.0   \n",
       "\n",
       "   Nourriture  Pertes  Production  Semences  Traitement  Variation de stock  \n",
       "0        53.0     NaN        53.0       NaN         NaN                 NaN  \n",
       "1        39.0     2.0         3.0       NaN         NaN                 NaN  \n",
       "2         2.0     NaN         NaN       NaN         NaN                 NaN  \n",
       "3         0.0     NaN         NaN       NaN         NaN                 NaN  \n",
       "4        82.0     NaN         NaN       NaN         NaN                 NaN  "
      ]
     },
     "execution_count": 63,
     "metadata": {},
     "output_type": "execute_result"
    }
   ],
   "source": [
    "#affichage les 5 premières lignes de la table\n",
    "dispo_alimentaire.head()"
   ]
  },
  {
   "cell_type": "code",
   "execution_count": 64,
   "id": "f3832569",
   "metadata": {},
   "outputs": [],
   "source": [
    "#remplacement des NaN dans le dataset par des 0\n",
    "dispo_alimentaire.fillna(0,inplace=True)\n",
    "\n"
   ]
  },
  {
   "cell_type": "code",
   "execution_count": 66,
   "id": "db4432e3",
   "metadata": {},
   "outputs": [],
   "source": [
    "#multiplication de toutes les lignes contenant des milliers de tonnes en Kg\n",
    "liste=['Aliments pour animaux','Autres Utilisations','Disponibilité intérieure','Exportations - Quantité','Importations - Quantité','Nourriture','Pertes',\n",
    "       'Production','Semences','Traitement','Variation de stock']\n",
    "for element in liste:\n",
    "    dispo_alimentaire[element]= dispo_alimentaire[element]*1000000"
   ]
  },
  {
   "cell_type": "code",
   "execution_count": 67,
   "id": "7f1689bf",
   "metadata": {},
   "outputs": [
    {
     "data": {
      "text/html": [
       "<div>\n",
       "<style scoped>\n",
       "    .dataframe tbody tr th:only-of-type {\n",
       "        vertical-align: middle;\n",
       "    }\n",
       "\n",
       "    .dataframe tbody tr th {\n",
       "        vertical-align: top;\n",
       "    }\n",
       "\n",
       "    .dataframe thead th {\n",
       "        text-align: right;\n",
       "    }\n",
       "</style>\n",
       "<table border=\"1\" class=\"dataframe\">\n",
       "  <thead>\n",
       "    <tr style=\"text-align: right;\">\n",
       "      <th></th>\n",
       "      <th>Zone</th>\n",
       "      <th>Produit</th>\n",
       "      <th>Origine</th>\n",
       "      <th>Aliments pour animaux</th>\n",
       "      <th>Autres Utilisations</th>\n",
       "      <th>Disponibilité alimentaire (Kcal/personne/jour)</th>\n",
       "      <th>Disponibilité alimentaire en quantité (kg/personne/an)</th>\n",
       "      <th>Disponibilité de matière grasse en quantité (g/personne/jour)</th>\n",
       "      <th>Disponibilité de protéines en quantité (g/personne/jour)</th>\n",
       "      <th>Disponibilité intérieure</th>\n",
       "      <th>Exportations - Quantité</th>\n",
       "      <th>Importations - Quantité</th>\n",
       "      <th>Nourriture</th>\n",
       "      <th>Pertes</th>\n",
       "      <th>Production</th>\n",
       "      <th>Semences</th>\n",
       "      <th>Traitement</th>\n",
       "      <th>Variation de stock</th>\n",
       "    </tr>\n",
       "  </thead>\n",
       "  <tbody>\n",
       "    <tr>\n",
       "      <th>0</th>\n",
       "      <td>Afghanistan</td>\n",
       "      <td>Abats Comestible</td>\n",
       "      <td>animale</td>\n",
       "      <td>0.0</td>\n",
       "      <td>0.0</td>\n",
       "      <td>5.0</td>\n",
       "      <td>1.72</td>\n",
       "      <td>0.20</td>\n",
       "      <td>0.77</td>\n",
       "      <td>5.300000e+13</td>\n",
       "      <td>0.000000e+00</td>\n",
       "      <td>0.000000e+00</td>\n",
       "      <td>5.300000e+13</td>\n",
       "      <td>0.000000e+00</td>\n",
       "      <td>5.300000e+13</td>\n",
       "      <td>0.0</td>\n",
       "      <td>0.0</td>\n",
       "      <td>0.0</td>\n",
       "    </tr>\n",
       "    <tr>\n",
       "      <th>1</th>\n",
       "      <td>Afghanistan</td>\n",
       "      <td>Agrumes, Autres</td>\n",
       "      <td>vegetale</td>\n",
       "      <td>0.0</td>\n",
       "      <td>0.0</td>\n",
       "      <td>1.0</td>\n",
       "      <td>1.29</td>\n",
       "      <td>0.01</td>\n",
       "      <td>0.02</td>\n",
       "      <td>4.100000e+13</td>\n",
       "      <td>2.000000e+12</td>\n",
       "      <td>4.000000e+13</td>\n",
       "      <td>3.900000e+13</td>\n",
       "      <td>2.000000e+12</td>\n",
       "      <td>3.000000e+12</td>\n",
       "      <td>0.0</td>\n",
       "      <td>0.0</td>\n",
       "      <td>0.0</td>\n",
       "    </tr>\n",
       "    <tr>\n",
       "      <th>2</th>\n",
       "      <td>Afghanistan</td>\n",
       "      <td>Aliments pour enfants</td>\n",
       "      <td>vegetale</td>\n",
       "      <td>0.0</td>\n",
       "      <td>0.0</td>\n",
       "      <td>1.0</td>\n",
       "      <td>0.06</td>\n",
       "      <td>0.01</td>\n",
       "      <td>0.03</td>\n",
       "      <td>2.000000e+12</td>\n",
       "      <td>0.000000e+00</td>\n",
       "      <td>2.000000e+12</td>\n",
       "      <td>2.000000e+12</td>\n",
       "      <td>0.000000e+00</td>\n",
       "      <td>0.000000e+00</td>\n",
       "      <td>0.0</td>\n",
       "      <td>0.0</td>\n",
       "      <td>0.0</td>\n",
       "    </tr>\n",
       "    <tr>\n",
       "      <th>3</th>\n",
       "      <td>Afghanistan</td>\n",
       "      <td>Ananas</td>\n",
       "      <td>vegetale</td>\n",
       "      <td>0.0</td>\n",
       "      <td>0.0</td>\n",
       "      <td>0.0</td>\n",
       "      <td>0.00</td>\n",
       "      <td>0.00</td>\n",
       "      <td>0.00</td>\n",
       "      <td>0.000000e+00</td>\n",
       "      <td>0.000000e+00</td>\n",
       "      <td>0.000000e+00</td>\n",
       "      <td>0.000000e+00</td>\n",
       "      <td>0.000000e+00</td>\n",
       "      <td>0.000000e+00</td>\n",
       "      <td>0.0</td>\n",
       "      <td>0.0</td>\n",
       "      <td>0.0</td>\n",
       "    </tr>\n",
       "    <tr>\n",
       "      <th>4</th>\n",
       "      <td>Afghanistan</td>\n",
       "      <td>Bananes</td>\n",
       "      <td>vegetale</td>\n",
       "      <td>0.0</td>\n",
       "      <td>0.0</td>\n",
       "      <td>4.0</td>\n",
       "      <td>2.70</td>\n",
       "      <td>0.02</td>\n",
       "      <td>0.05</td>\n",
       "      <td>8.200000e+13</td>\n",
       "      <td>0.000000e+00</td>\n",
       "      <td>8.200000e+13</td>\n",
       "      <td>8.200000e+13</td>\n",
       "      <td>0.000000e+00</td>\n",
       "      <td>0.000000e+00</td>\n",
       "      <td>0.0</td>\n",
       "      <td>0.0</td>\n",
       "      <td>0.0</td>\n",
       "    </tr>\n",
       "  </tbody>\n",
       "</table>\n",
       "</div>"
      ],
      "text/plain": [
       "          Zone                Produit   Origine  Aliments pour animaux  \\\n",
       "0  Afghanistan       Abats Comestible   animale                    0.0   \n",
       "1  Afghanistan        Agrumes, Autres  vegetale                    0.0   \n",
       "2  Afghanistan  Aliments pour enfants  vegetale                    0.0   \n",
       "3  Afghanistan                 Ananas  vegetale                    0.0   \n",
       "4  Afghanistan                Bananes  vegetale                    0.0   \n",
       "\n",
       "   Autres Utilisations  Disponibilité alimentaire (Kcal/personne/jour)  \\\n",
       "0                  0.0                                             5.0   \n",
       "1                  0.0                                             1.0   \n",
       "2                  0.0                                             1.0   \n",
       "3                  0.0                                             0.0   \n",
       "4                  0.0                                             4.0   \n",
       "\n",
       "   Disponibilité alimentaire en quantité (kg/personne/an)  \\\n",
       "0                                               1.72        \n",
       "1                                               1.29        \n",
       "2                                               0.06        \n",
       "3                                               0.00        \n",
       "4                                               2.70        \n",
       "\n",
       "   Disponibilité de matière grasse en quantité (g/personne/jour)  \\\n",
       "0                                               0.20               \n",
       "1                                               0.01               \n",
       "2                                               0.01               \n",
       "3                                               0.00               \n",
       "4                                               0.02               \n",
       "\n",
       "   Disponibilité de protéines en quantité (g/personne/jour)  \\\n",
       "0                                               0.77          \n",
       "1                                               0.02          \n",
       "2                                               0.03          \n",
       "3                                               0.00          \n",
       "4                                               0.05          \n",
       "\n",
       "   Disponibilité intérieure  Exportations - Quantité  Importations - Quantité  \\\n",
       "0              5.300000e+13             0.000000e+00             0.000000e+00   \n",
       "1              4.100000e+13             2.000000e+12             4.000000e+13   \n",
       "2              2.000000e+12             0.000000e+00             2.000000e+12   \n",
       "3              0.000000e+00             0.000000e+00             0.000000e+00   \n",
       "4              8.200000e+13             0.000000e+00             8.200000e+13   \n",
       "\n",
       "     Nourriture        Pertes    Production  Semences  Traitement  \\\n",
       "0  5.300000e+13  0.000000e+00  5.300000e+13       0.0         0.0   \n",
       "1  3.900000e+13  2.000000e+12  3.000000e+12       0.0         0.0   \n",
       "2  2.000000e+12  0.000000e+00  0.000000e+00       0.0         0.0   \n",
       "3  0.000000e+00  0.000000e+00  0.000000e+00       0.0         0.0   \n",
       "4  8.200000e+13  0.000000e+00  0.000000e+00       0.0         0.0   \n",
       "\n",
       "   Variation de stock  \n",
       "0                 0.0  \n",
       "1                 0.0  \n",
       "2                 0.0  \n",
       "3                 0.0  \n",
       "4                 0.0  "
      ]
     },
     "execution_count": 67,
     "metadata": {},
     "output_type": "execute_result"
    }
   ],
   "source": [
    "#Affichage les 5 premières lignes de la table\n",
    "dispo_alimentaire.head()"
   ]
  },
  {
   "cell_type": "markdown",
   "id": "a09233e4",
   "metadata": {},
   "source": [
    "<div style=\"border: 1px solid RGB(0,150,250);\" >\n",
    "<h3 style=\"margin: auto; padding: 20px; color: RGB(0,150,250); \">2.3 - Analyse exploratoire du fichier aide alimentaire</h3>\n",
    "</div>"
   ]
  },
  {
   "cell_type": "code",
   "execution_count": 68,
   "id": "702f6322",
   "metadata": {},
   "outputs": [
    {
     "name": "stdout",
     "output_type": "stream",
     "text": [
      "Le tableau comporte 1475 observation(s) ou article(s)\n",
      "Le tableau comporte 4 colonne(s)\n"
     ]
    }
   ],
   "source": [
    "#Afficher les dimensions du dataset\n",
    "print(\"Le tableau comporte {} observation(s) ou article(s)\".format(aide_alimentaire.shape[0]))\n",
    "print(\"Le tableau comporte {} colonne(s)\".format(aide_alimentaire.shape[1]))"
   ]
  },
  {
   "cell_type": "code",
   "execution_count": 69,
   "id": "4463821e",
   "metadata": {},
   "outputs": [
    {
     "name": "stdout",
     "output_type": "stream",
     "text": [
      "<class 'pandas.core.frame.DataFrame'>\n",
      "RangeIndex: 1475 entries, 0 to 1474\n",
      "Data columns (total 4 columns):\n",
      " #   Column             Non-Null Count  Dtype \n",
      "---  ------             --------------  ----- \n",
      " 0   Pays bénéficiaire  1475 non-null   object\n",
      " 1   Année              1475 non-null   int64 \n",
      " 2   Produit            1475 non-null   object\n",
      " 3   Valeur             1475 non-null   int64 \n",
      "dtypes: int64(2), object(2)\n",
      "memory usage: 46.2+ KB\n"
     ]
    }
   ],
   "source": [
    "#Consulter le nombre de colonnes\n",
    "aide_alimentaire.info()"
   ]
  },
  {
   "cell_type": "code",
   "execution_count": 70,
   "id": "443ec245",
   "metadata": {},
   "outputs": [
    {
     "data": {
      "text/html": [
       "<div>\n",
       "<style scoped>\n",
       "    .dataframe tbody tr th:only-of-type {\n",
       "        vertical-align: middle;\n",
       "    }\n",
       "\n",
       "    .dataframe tbody tr th {\n",
       "        vertical-align: top;\n",
       "    }\n",
       "\n",
       "    .dataframe thead th {\n",
       "        text-align: right;\n",
       "    }\n",
       "</style>\n",
       "<table border=\"1\" class=\"dataframe\">\n",
       "  <thead>\n",
       "    <tr style=\"text-align: right;\">\n",
       "      <th></th>\n",
       "      <th>Pays bénéficiaire</th>\n",
       "      <th>Année</th>\n",
       "      <th>Produit</th>\n",
       "      <th>Valeur</th>\n",
       "    </tr>\n",
       "  </thead>\n",
       "  <tbody>\n",
       "    <tr>\n",
       "      <th>0</th>\n",
       "      <td>Afghanistan</td>\n",
       "      <td>2013</td>\n",
       "      <td>Autres non-céréales</td>\n",
       "      <td>682</td>\n",
       "    </tr>\n",
       "    <tr>\n",
       "      <th>1</th>\n",
       "      <td>Afghanistan</td>\n",
       "      <td>2014</td>\n",
       "      <td>Autres non-céréales</td>\n",
       "      <td>335</td>\n",
       "    </tr>\n",
       "    <tr>\n",
       "      <th>2</th>\n",
       "      <td>Afghanistan</td>\n",
       "      <td>2013</td>\n",
       "      <td>Blé et Farin</td>\n",
       "      <td>39224</td>\n",
       "    </tr>\n",
       "    <tr>\n",
       "      <th>3</th>\n",
       "      <td>Afghanistan</td>\n",
       "      <td>2014</td>\n",
       "      <td>Blé et Farin</td>\n",
       "      <td>15160</td>\n",
       "    </tr>\n",
       "    <tr>\n",
       "      <th>4</th>\n",
       "      <td>Afghanistan</td>\n",
       "      <td>2013</td>\n",
       "      <td>Céréales</td>\n",
       "      <td>40504</td>\n",
       "    </tr>\n",
       "  </tbody>\n",
       "</table>\n",
       "</div>"
      ],
      "text/plain": [
       "  Pays bénéficiaire  Année              Produit  Valeur\n",
       "0       Afghanistan   2013  Autres non-céréales     682\n",
       "1       Afghanistan   2014  Autres non-céréales     335\n",
       "2       Afghanistan   2013         Blé et Farin   39224\n",
       "3       Afghanistan   2014         Blé et Farin   15160\n",
       "4       Afghanistan   2013             Céréales   40504"
      ]
     },
     "execution_count": 70,
     "metadata": {},
     "output_type": "execute_result"
    }
   ],
   "source": [
    "#Affichage les 5 premières lignes de la table\n",
    "aide_alimentaire.head()"
   ]
  },
  {
   "cell_type": "code",
   "execution_count": 71,
   "id": "af47212b",
   "metadata": {},
   "outputs": [],
   "source": [
    "#changement du nom de la colonne Pays bénéficiaire par Zone\n",
    "aide_alimentaire.rename( columns={'Pays bénéficiaire':'zone'} ,inplace = True)\n"
   ]
  },
  {
   "cell_type": "code",
   "execution_count": 72,
   "id": "c32cd1d8",
   "metadata": {},
   "outputs": [],
   "source": [
    "#Multiplication de la colonne Aide_alimentaire qui contient des tonnes par 1000 pour avoir des kg\n",
    "aide_alimentaire ['Valeur'] = aide_alimentaire ['Valeur']*1000"
   ]
  },
  {
   "cell_type": "code",
   "execution_count": 73,
   "id": "d951d8df",
   "metadata": {},
   "outputs": [
    {
     "data": {
      "text/html": [
       "<div>\n",
       "<style scoped>\n",
       "    .dataframe tbody tr th:only-of-type {\n",
       "        vertical-align: middle;\n",
       "    }\n",
       "\n",
       "    .dataframe tbody tr th {\n",
       "        vertical-align: top;\n",
       "    }\n",
       "\n",
       "    .dataframe thead th {\n",
       "        text-align: right;\n",
       "    }\n",
       "</style>\n",
       "<table border=\"1\" class=\"dataframe\">\n",
       "  <thead>\n",
       "    <tr style=\"text-align: right;\">\n",
       "      <th></th>\n",
       "      <th>zone</th>\n",
       "      <th>Année</th>\n",
       "      <th>Produit</th>\n",
       "      <th>Valeur</th>\n",
       "    </tr>\n",
       "  </thead>\n",
       "  <tbody>\n",
       "    <tr>\n",
       "      <th>0</th>\n",
       "      <td>Afghanistan</td>\n",
       "      <td>2013</td>\n",
       "      <td>Autres non-céréales</td>\n",
       "      <td>682000</td>\n",
       "    </tr>\n",
       "    <tr>\n",
       "      <th>1</th>\n",
       "      <td>Afghanistan</td>\n",
       "      <td>2014</td>\n",
       "      <td>Autres non-céréales</td>\n",
       "      <td>335000</td>\n",
       "    </tr>\n",
       "    <tr>\n",
       "      <th>2</th>\n",
       "      <td>Afghanistan</td>\n",
       "      <td>2013</td>\n",
       "      <td>Blé et Farin</td>\n",
       "      <td>39224000</td>\n",
       "    </tr>\n",
       "    <tr>\n",
       "      <th>3</th>\n",
       "      <td>Afghanistan</td>\n",
       "      <td>2014</td>\n",
       "      <td>Blé et Farin</td>\n",
       "      <td>15160000</td>\n",
       "    </tr>\n",
       "    <tr>\n",
       "      <th>4</th>\n",
       "      <td>Afghanistan</td>\n",
       "      <td>2013</td>\n",
       "      <td>Céréales</td>\n",
       "      <td>40504000</td>\n",
       "    </tr>\n",
       "  </tbody>\n",
       "</table>\n",
       "</div>"
      ],
      "text/plain": [
       "          zone  Année              Produit    Valeur\n",
       "0  Afghanistan   2013  Autres non-céréales    682000\n",
       "1  Afghanistan   2014  Autres non-céréales    335000\n",
       "2  Afghanistan   2013         Blé et Farin  39224000\n",
       "3  Afghanistan   2014         Blé et Farin  15160000\n",
       "4  Afghanistan   2013             Céréales  40504000"
      ]
     },
     "execution_count": 73,
     "metadata": {},
     "output_type": "execute_result"
    }
   ],
   "source": [
    "#Affichage les 5 premières lignes de la table\n",
    "aide_alimentaire.head()"
   ]
  },
  {
   "cell_type": "markdown",
   "id": "eeae9043",
   "metadata": {},
   "source": [
    "<div style=\"border: 1px solid RGB(0,150,250);\" >\n",
    "<h3 style=\"margin: auto; padding: 20px; color: RGB(0,150,250); \">2.3 - Analyse exploratoire du fichier sous nutrition</h3>\n",
    "</div>"
   ]
  },
  {
   "cell_type": "code",
   "execution_count": 74,
   "id": "882add3d",
   "metadata": {},
   "outputs": [
    {
     "name": "stdout",
     "output_type": "stream",
     "text": [
      "Le tableau comporte 1218 observation(s) ou article(s)\n",
      "Le tableau comporte 3 colonne(s)\n"
     ]
    }
   ],
   "source": [
    "#Afficher les dimensions du dataset\n",
    "\n",
    "print(\"Le tableau comporte {} observation(s) ou article(s)\".format(sous_nutrition.shape[0]))\n",
    "print(\"Le tableau comporte {} colonne(s)\".format(sous_nutrition.shape[1]))"
   ]
  },
  {
   "cell_type": "code",
   "execution_count": 75,
   "id": "70c1a7a9",
   "metadata": {},
   "outputs": [
    {
     "name": "stdout",
     "output_type": "stream",
     "text": [
      "<class 'pandas.core.frame.DataFrame'>\n",
      "RangeIndex: 1218 entries, 0 to 1217\n",
      "Data columns (total 3 columns):\n",
      " #   Column  Non-Null Count  Dtype \n",
      "---  ------  --------------  ----- \n",
      " 0   Zone    1218 non-null   object\n",
      " 1   Année   1218 non-null   object\n",
      " 2   Valeur  624 non-null    object\n",
      "dtypes: object(3)\n",
      "memory usage: 28.7+ KB\n"
     ]
    }
   ],
   "source": [
    "#Consulter le nombre de colonnes\n",
    "sous_nutrition.info()"
   ]
  },
  {
   "cell_type": "code",
   "execution_count": 76,
   "id": "5c6469e5",
   "metadata": {},
   "outputs": [
    {
     "data": {
      "text/html": [
       "<div>\n",
       "<style scoped>\n",
       "    .dataframe tbody tr th:only-of-type {\n",
       "        vertical-align: middle;\n",
       "    }\n",
       "\n",
       "    .dataframe tbody tr th {\n",
       "        vertical-align: top;\n",
       "    }\n",
       "\n",
       "    .dataframe thead th {\n",
       "        text-align: right;\n",
       "    }\n",
       "</style>\n",
       "<table border=\"1\" class=\"dataframe\">\n",
       "  <thead>\n",
       "    <tr style=\"text-align: right;\">\n",
       "      <th></th>\n",
       "      <th>Zone</th>\n",
       "      <th>Année</th>\n",
       "      <th>Valeur</th>\n",
       "    </tr>\n",
       "  </thead>\n",
       "  <tbody>\n",
       "    <tr>\n",
       "      <th>0</th>\n",
       "      <td>Afghanistan</td>\n",
       "      <td>2012-2014</td>\n",
       "      <td>8.6</td>\n",
       "    </tr>\n",
       "    <tr>\n",
       "      <th>1</th>\n",
       "      <td>Afghanistan</td>\n",
       "      <td>2013-2015</td>\n",
       "      <td>8.8</td>\n",
       "    </tr>\n",
       "    <tr>\n",
       "      <th>2</th>\n",
       "      <td>Afghanistan</td>\n",
       "      <td>2014-2016</td>\n",
       "      <td>8.9</td>\n",
       "    </tr>\n",
       "    <tr>\n",
       "      <th>3</th>\n",
       "      <td>Afghanistan</td>\n",
       "      <td>2015-2017</td>\n",
       "      <td>9.7</td>\n",
       "    </tr>\n",
       "    <tr>\n",
       "      <th>4</th>\n",
       "      <td>Afghanistan</td>\n",
       "      <td>2016-2018</td>\n",
       "      <td>10.5</td>\n",
       "    </tr>\n",
       "  </tbody>\n",
       "</table>\n",
       "</div>"
      ],
      "text/plain": [
       "          Zone      Année Valeur\n",
       "0  Afghanistan  2012-2014    8.6\n",
       "1  Afghanistan  2013-2015    8.8\n",
       "2  Afghanistan  2014-2016    8.9\n",
       "3  Afghanistan  2015-2017    9.7\n",
       "4  Afghanistan  2016-2018   10.5"
      ]
     },
     "execution_count": 76,
     "metadata": {},
     "output_type": "execute_result"
    }
   ],
   "source": [
    "#Afficher les 5 premières lignes de la table\n",
    "sous_nutrition.head()\n"
   ]
  },
  {
   "cell_type": "code",
   "execution_count": 77,
   "id": "11b6a6c8",
   "metadata": {},
   "outputs": [],
   "source": [
    "#Conversion de la colonne sous nutrition en numérique\n",
    "sous_nutrition['Valeur'] = pd.to_numeric(sous_nutrition['Valeur'],errors='coerce')\n",
    "\n"
   ]
  },
  {
   "cell_type": "code",
   "execution_count": 78,
   "id": "ede33fb4",
   "metadata": {},
   "outputs": [
    {
     "name": "stdout",
     "output_type": "stream",
     "text": [
      "<class 'pandas.core.frame.DataFrame'>\n",
      "RangeIndex: 1218 entries, 0 to 1217\n",
      "Data columns (total 3 columns):\n",
      " #   Column  Non-Null Count  Dtype  \n",
      "---  ------  --------------  -----  \n",
      " 0   Zone    1218 non-null   object \n",
      " 1   Année   1218 non-null   object \n",
      " 2   Valeur  504 non-null    float64\n",
      "dtypes: float64(1), object(2)\n",
      "memory usage: 28.7+ KB\n"
     ]
    }
   ],
   "source": [
    "sous_nutrition.info()"
   ]
  },
  {
   "cell_type": "code",
   "execution_count": 79,
   "id": "d31d2724",
   "metadata": {},
   "outputs": [],
   "source": [
    "#Conversion de la colonne (avec l'argument errors=coerce qui permet de convertir automatiquement les lignes qui ne sont pas des nombres en NaN)\n",
    "#Puis remplacement des NaN en 0\n",
    "sous_nutrition.fillna(0,inplace=True)\n"
   ]
  },
  {
   "cell_type": "code",
   "execution_count": 80,
   "id": "34c98232",
   "metadata": {},
   "outputs": [],
   "source": [
    "#changement du nom de la colonne Valeur par sous_nutrition\n",
    "sous_nutrition.rename( columns = {'Valeur':'sous_nutrition'} , inplace= True)"
   ]
  },
  {
   "cell_type": "code",
   "execution_count": 81,
   "id": "002110fa",
   "metadata": {},
   "outputs": [],
   "source": [
    "#Multiplication de la colonne sous_nutrition par 1000000\n",
    "sous_nutrition ['sous_nutrition'] = sous_nutrition ['sous_nutrition']* 1000000"
   ]
  },
  {
   "cell_type": "code",
   "execution_count": 82,
   "id": "58259b55",
   "metadata": {},
   "outputs": [
    {
     "data": {
      "text/html": [
       "<div>\n",
       "<style scoped>\n",
       "    .dataframe tbody tr th:only-of-type {\n",
       "        vertical-align: middle;\n",
       "    }\n",
       "\n",
       "    .dataframe tbody tr th {\n",
       "        vertical-align: top;\n",
       "    }\n",
       "\n",
       "    .dataframe thead th {\n",
       "        text-align: right;\n",
       "    }\n",
       "</style>\n",
       "<table border=\"1\" class=\"dataframe\">\n",
       "  <thead>\n",
       "    <tr style=\"text-align: right;\">\n",
       "      <th></th>\n",
       "      <th>Zone</th>\n",
       "      <th>Année</th>\n",
       "      <th>sous_nutrition</th>\n",
       "    </tr>\n",
       "  </thead>\n",
       "  <tbody>\n",
       "    <tr>\n",
       "      <th>0</th>\n",
       "      <td>Afghanistan</td>\n",
       "      <td>2012-2014</td>\n",
       "      <td>8600000.0</td>\n",
       "    </tr>\n",
       "    <tr>\n",
       "      <th>1</th>\n",
       "      <td>Afghanistan</td>\n",
       "      <td>2013-2015</td>\n",
       "      <td>8800000.0</td>\n",
       "    </tr>\n",
       "    <tr>\n",
       "      <th>2</th>\n",
       "      <td>Afghanistan</td>\n",
       "      <td>2014-2016</td>\n",
       "      <td>8900000.0</td>\n",
       "    </tr>\n",
       "    <tr>\n",
       "      <th>3</th>\n",
       "      <td>Afghanistan</td>\n",
       "      <td>2015-2017</td>\n",
       "      <td>9700000.0</td>\n",
       "    </tr>\n",
       "    <tr>\n",
       "      <th>4</th>\n",
       "      <td>Afghanistan</td>\n",
       "      <td>2016-2018</td>\n",
       "      <td>10500000.0</td>\n",
       "    </tr>\n",
       "  </tbody>\n",
       "</table>\n",
       "</div>"
      ],
      "text/plain": [
       "          Zone      Année  sous_nutrition\n",
       "0  Afghanistan  2012-2014       8600000.0\n",
       "1  Afghanistan  2013-2015       8800000.0\n",
       "2  Afghanistan  2014-2016       8900000.0\n",
       "3  Afghanistan  2015-2017       9700000.0\n",
       "4  Afghanistan  2016-2018      10500000.0"
      ]
     },
     "execution_count": 82,
     "metadata": {},
     "output_type": "execute_result"
    }
   ],
   "source": [
    "#Afficher les 5 premières lignes de\n",
    "sous_nutrition.head()"
   ]
  },
  {
   "cell_type": "markdown",
   "id": "df6dcabd",
   "metadata": {},
   "source": [
    "<div style=\"border: 1px solid RGB(0,150,250);\" >\n",
    "<h3 style=\"margin: auto; padding: 20px; color: RGB(0,150,250); \">3.1 - Proportion de personnes en sous nutrition</h3>\n",
    "</div>"
   ]
  },
  {
   "cell_type": "markdown",
   "id": "5807042d",
   "metadata": {},
   "source": [
    "# Il faut tout d'abord faire une jointure entre la table population et la table sous nutrition, en ciblant l'année 2017"
   ]
  },
  {
   "cell_type": "code",
   "execution_count": 85,
   "id": "efd5a406",
   "metadata": {},
   "outputs": [],
   "source": [
    "population2017 = population.loc[population['Année']==2017,['Zone','population']]\n",
    "sous_nutrition2017 = sous_nutrition.loc[sous_nutrition['Année']=='2016-2018' ,['Zone','sous_nutrition']]\n",
    "Data = pd.merge(population2017,sous_nutrition2017, on ='Zone')"
   ]
  },
  {
   "cell_type": "code",
   "execution_count": 86,
   "id": "731eea39",
   "metadata": {},
   "outputs": [
    {
     "data": {
      "text/html": [
       "<div>\n",
       "<style scoped>\n",
       "    .dataframe tbody tr th:only-of-type {\n",
       "        vertical-align: middle;\n",
       "    }\n",
       "\n",
       "    .dataframe tbody tr th {\n",
       "        vertical-align: top;\n",
       "    }\n",
       "\n",
       "    .dataframe thead th {\n",
       "        text-align: right;\n",
       "    }\n",
       "</style>\n",
       "<table border=\"1\" class=\"dataframe\">\n",
       "  <thead>\n",
       "    <tr style=\"text-align: right;\">\n",
       "      <th></th>\n",
       "      <th>Zone</th>\n",
       "      <th>population</th>\n",
       "      <th>sous_nutrition</th>\n",
       "    </tr>\n",
       "  </thead>\n",
       "  <tbody>\n",
       "    <tr>\n",
       "      <th>0</th>\n",
       "      <td>Afghanistan</td>\n",
       "      <td>36296113.0</td>\n",
       "      <td>10500000.0</td>\n",
       "    </tr>\n",
       "    <tr>\n",
       "      <th>1</th>\n",
       "      <td>Afrique du Sud</td>\n",
       "      <td>57009756.0</td>\n",
       "      <td>3100000.0</td>\n",
       "    </tr>\n",
       "    <tr>\n",
       "      <th>2</th>\n",
       "      <td>Albanie</td>\n",
       "      <td>2884169.0</td>\n",
       "      <td>100000.0</td>\n",
       "    </tr>\n",
       "    <tr>\n",
       "      <th>3</th>\n",
       "      <td>Algérie</td>\n",
       "      <td>41389189.0</td>\n",
       "      <td>1300000.0</td>\n",
       "    </tr>\n",
       "    <tr>\n",
       "      <th>4</th>\n",
       "      <td>Allemagne</td>\n",
       "      <td>82658409.0</td>\n",
       "      <td>0.0</td>\n",
       "    </tr>\n",
       "  </tbody>\n",
       "</table>\n",
       "</div>"
      ],
      "text/plain": [
       "             Zone  population  sous_nutrition\n",
       "0     Afghanistan  36296113.0      10500000.0\n",
       "1  Afrique du Sud  57009756.0       3100000.0\n",
       "2         Albanie   2884169.0        100000.0\n",
       "3         Algérie  41389189.0       1300000.0\n",
       "4       Allemagne  82658409.0             0.0"
      ]
     },
     "execution_count": 86,
     "metadata": {},
     "output_type": "execute_result"
    }
   ],
   "source": [
    "#Affichage du dataset\n",
    "Data.head()"
   ]
  },
  {
   "cell_type": "code",
   "execution_count": 88,
   "id": "28e2741f",
   "metadata": {
    "scrolled": true
   },
   "outputs": [
    {
     "name": "stdout",
     "output_type": "stream",
     "text": [
      "7.1011968332354165\n"
     ]
    }
   ],
   "source": [
    "#Calcul et affichage du pourcentage de personnes en état de sous nutrition\n",
    "pourcentage_personnes_sous_nutrition=Data['sous_nutrition'].sum()/Data['population'].sum()*100\n",
    "print(pourcentage_personnes_sous_nutrition)"
   ]
  },
  {
   "cell_type": "code",
   "execution_count": 89,
   "id": "932c70fb",
   "metadata": {},
   "outputs": [
    {
     "data": {
      "text/plain": [
       "7543798779.0"
      ]
     },
     "execution_count": 89,
     "metadata": {},
     "output_type": "execute_result"
    }
   ],
   "source": [
    "#Nombre de personnes en état de sous nutrition\n",
    "Data['population'].sum()"
   ]
  },
  {
   "cell_type": "markdown",
   "id": "b4134a24",
   "metadata": {},
   "source": [
    "<div style=\"border: 1px solid RGB(0,150,250);\" >\n",
    "<h3 style=\"margin: auto; padding: 20px; color: RGB(0,150,250); \">3.2 - Nombre théorique de personne qui pourrait être nourries</h3>\n",
    "</div>"
   ]
  },
  {
   "cell_type": "code",
   "execution_count": 90,
   "id": "2b63df85",
   "metadata": {},
   "outputs": [
    {
     "name": "stdout",
     "output_type": "stream",
     "text": [
      "un être humain mange 2000 kcal\n"
     ]
    }
   ],
   "source": [
    "#Combien mange en moyenne un être humain ? Source => \n",
    "print('un être humain mange 2000 kcal')"
   ]
  },
  {
   "cell_type": "code",
   "execution_count": 91,
   "id": "5e3f262d",
   "metadata": {},
   "outputs": [],
   "source": [
    "#On commence par faire une jointure entre le data frame population et Dispo_alimentaire afin d'ajouter dans ce dernier la population\n",
    "data_population2017_dispo_alimentaire = pd.merge(population2017,dispo_alimentaire,on= 'Zone')"
   ]
  },
  {
   "cell_type": "code",
   "execution_count": 92,
   "id": "4538126c",
   "metadata": {},
   "outputs": [
    {
     "data": {
      "text/html": [
       "<div>\n",
       "<style scoped>\n",
       "    .dataframe tbody tr th:only-of-type {\n",
       "        vertical-align: middle;\n",
       "    }\n",
       "\n",
       "    .dataframe tbody tr th {\n",
       "        vertical-align: top;\n",
       "    }\n",
       "\n",
       "    .dataframe thead th {\n",
       "        text-align: right;\n",
       "    }\n",
       "</style>\n",
       "<table border=\"1\" class=\"dataframe\">\n",
       "  <thead>\n",
       "    <tr style=\"text-align: right;\">\n",
       "      <th></th>\n",
       "      <th>Zone</th>\n",
       "      <th>population</th>\n",
       "      <th>Produit</th>\n",
       "      <th>Origine</th>\n",
       "      <th>Aliments pour animaux</th>\n",
       "      <th>Autres Utilisations</th>\n",
       "      <th>Disponibilité alimentaire (Kcal/personne/jour)</th>\n",
       "      <th>Disponibilité alimentaire en quantité (kg/personne/an)</th>\n",
       "      <th>Disponibilité de matière grasse en quantité (g/personne/jour)</th>\n",
       "      <th>Disponibilité de protéines en quantité (g/personne/jour)</th>\n",
       "      <th>Disponibilité intérieure</th>\n",
       "      <th>Exportations - Quantité</th>\n",
       "      <th>Importations - Quantité</th>\n",
       "      <th>Nourriture</th>\n",
       "      <th>Pertes</th>\n",
       "      <th>Production</th>\n",
       "      <th>Semences</th>\n",
       "      <th>Traitement</th>\n",
       "      <th>Variation de stock</th>\n",
       "    </tr>\n",
       "  </thead>\n",
       "  <tbody>\n",
       "    <tr>\n",
       "      <th>0</th>\n",
       "      <td>Afghanistan</td>\n",
       "      <td>36296113.0</td>\n",
       "      <td>Abats Comestible</td>\n",
       "      <td>animale</td>\n",
       "      <td>0.0</td>\n",
       "      <td>0.0</td>\n",
       "      <td>5.0</td>\n",
       "      <td>1.72</td>\n",
       "      <td>0.20</td>\n",
       "      <td>0.77</td>\n",
       "      <td>5.300000e+13</td>\n",
       "      <td>0.000000e+00</td>\n",
       "      <td>0.000000e+00</td>\n",
       "      <td>5.300000e+13</td>\n",
       "      <td>0.000000e+00</td>\n",
       "      <td>5.300000e+13</td>\n",
       "      <td>0.0</td>\n",
       "      <td>0.0</td>\n",
       "      <td>0.0</td>\n",
       "    </tr>\n",
       "    <tr>\n",
       "      <th>1</th>\n",
       "      <td>Afghanistan</td>\n",
       "      <td>36296113.0</td>\n",
       "      <td>Agrumes, Autres</td>\n",
       "      <td>vegetale</td>\n",
       "      <td>0.0</td>\n",
       "      <td>0.0</td>\n",
       "      <td>1.0</td>\n",
       "      <td>1.29</td>\n",
       "      <td>0.01</td>\n",
       "      <td>0.02</td>\n",
       "      <td>4.100000e+13</td>\n",
       "      <td>2.000000e+12</td>\n",
       "      <td>4.000000e+13</td>\n",
       "      <td>3.900000e+13</td>\n",
       "      <td>2.000000e+12</td>\n",
       "      <td>3.000000e+12</td>\n",
       "      <td>0.0</td>\n",
       "      <td>0.0</td>\n",
       "      <td>0.0</td>\n",
       "    </tr>\n",
       "    <tr>\n",
       "      <th>2</th>\n",
       "      <td>Afghanistan</td>\n",
       "      <td>36296113.0</td>\n",
       "      <td>Aliments pour enfants</td>\n",
       "      <td>vegetale</td>\n",
       "      <td>0.0</td>\n",
       "      <td>0.0</td>\n",
       "      <td>1.0</td>\n",
       "      <td>0.06</td>\n",
       "      <td>0.01</td>\n",
       "      <td>0.03</td>\n",
       "      <td>2.000000e+12</td>\n",
       "      <td>0.000000e+00</td>\n",
       "      <td>2.000000e+12</td>\n",
       "      <td>2.000000e+12</td>\n",
       "      <td>0.000000e+00</td>\n",
       "      <td>0.000000e+00</td>\n",
       "      <td>0.0</td>\n",
       "      <td>0.0</td>\n",
       "      <td>0.0</td>\n",
       "    </tr>\n",
       "    <tr>\n",
       "      <th>3</th>\n",
       "      <td>Afghanistan</td>\n",
       "      <td>36296113.0</td>\n",
       "      <td>Ananas</td>\n",
       "      <td>vegetale</td>\n",
       "      <td>0.0</td>\n",
       "      <td>0.0</td>\n",
       "      <td>0.0</td>\n",
       "      <td>0.00</td>\n",
       "      <td>0.00</td>\n",
       "      <td>0.00</td>\n",
       "      <td>0.000000e+00</td>\n",
       "      <td>0.000000e+00</td>\n",
       "      <td>0.000000e+00</td>\n",
       "      <td>0.000000e+00</td>\n",
       "      <td>0.000000e+00</td>\n",
       "      <td>0.000000e+00</td>\n",
       "      <td>0.0</td>\n",
       "      <td>0.0</td>\n",
       "      <td>0.0</td>\n",
       "    </tr>\n",
       "    <tr>\n",
       "      <th>4</th>\n",
       "      <td>Afghanistan</td>\n",
       "      <td>36296113.0</td>\n",
       "      <td>Bananes</td>\n",
       "      <td>vegetale</td>\n",
       "      <td>0.0</td>\n",
       "      <td>0.0</td>\n",
       "      <td>4.0</td>\n",
       "      <td>2.70</td>\n",
       "      <td>0.02</td>\n",
       "      <td>0.05</td>\n",
       "      <td>8.200000e+13</td>\n",
       "      <td>0.000000e+00</td>\n",
       "      <td>8.200000e+13</td>\n",
       "      <td>8.200000e+13</td>\n",
       "      <td>0.000000e+00</td>\n",
       "      <td>0.000000e+00</td>\n",
       "      <td>0.0</td>\n",
       "      <td>0.0</td>\n",
       "      <td>0.0</td>\n",
       "    </tr>\n",
       "  </tbody>\n",
       "</table>\n",
       "</div>"
      ],
      "text/plain": [
       "          Zone  population                Produit   Origine  \\\n",
       "0  Afghanistan  36296113.0       Abats Comestible   animale   \n",
       "1  Afghanistan  36296113.0        Agrumes, Autres  vegetale   \n",
       "2  Afghanistan  36296113.0  Aliments pour enfants  vegetale   \n",
       "3  Afghanistan  36296113.0                 Ananas  vegetale   \n",
       "4  Afghanistan  36296113.0                Bananes  vegetale   \n",
       "\n",
       "   Aliments pour animaux  Autres Utilisations  \\\n",
       "0                    0.0                  0.0   \n",
       "1                    0.0                  0.0   \n",
       "2                    0.0                  0.0   \n",
       "3                    0.0                  0.0   \n",
       "4                    0.0                  0.0   \n",
       "\n",
       "   Disponibilité alimentaire (Kcal/personne/jour)  \\\n",
       "0                                             5.0   \n",
       "1                                             1.0   \n",
       "2                                             1.0   \n",
       "3                                             0.0   \n",
       "4                                             4.0   \n",
       "\n",
       "   Disponibilité alimentaire en quantité (kg/personne/an)  \\\n",
       "0                                               1.72        \n",
       "1                                               1.29        \n",
       "2                                               0.06        \n",
       "3                                               0.00        \n",
       "4                                               2.70        \n",
       "\n",
       "   Disponibilité de matière grasse en quantité (g/personne/jour)  \\\n",
       "0                                               0.20               \n",
       "1                                               0.01               \n",
       "2                                               0.01               \n",
       "3                                               0.00               \n",
       "4                                               0.02               \n",
       "\n",
       "   Disponibilité de protéines en quantité (g/personne/jour)  \\\n",
       "0                                               0.77          \n",
       "1                                               0.02          \n",
       "2                                               0.03          \n",
       "3                                               0.00          \n",
       "4                                               0.05          \n",
       "\n",
       "   Disponibilité intérieure  Exportations - Quantité  Importations - Quantité  \\\n",
       "0              5.300000e+13             0.000000e+00             0.000000e+00   \n",
       "1              4.100000e+13             2.000000e+12             4.000000e+13   \n",
       "2              2.000000e+12             0.000000e+00             2.000000e+12   \n",
       "3              0.000000e+00             0.000000e+00             0.000000e+00   \n",
       "4              8.200000e+13             0.000000e+00             8.200000e+13   \n",
       "\n",
       "     Nourriture        Pertes    Production  Semences  Traitement  \\\n",
       "0  5.300000e+13  0.000000e+00  5.300000e+13       0.0         0.0   \n",
       "1  3.900000e+13  2.000000e+12  3.000000e+12       0.0         0.0   \n",
       "2  2.000000e+12  0.000000e+00  0.000000e+00       0.0         0.0   \n",
       "3  0.000000e+00  0.000000e+00  0.000000e+00       0.0         0.0   \n",
       "4  8.200000e+13  0.000000e+00  0.000000e+00       0.0         0.0   \n",
       "\n",
       "   Variation de stock  \n",
       "0                 0.0  \n",
       "1                 0.0  \n",
       "2                 0.0  \n",
       "3                 0.0  \n",
       "4                 0.0  "
      ]
     },
     "execution_count": 92,
     "metadata": {},
     "output_type": "execute_result"
    }
   ],
   "source": [
    "#Affichage du nouveau dataframe\n",
    "data_population2017_dispo_alimentaire.head()"
   ]
  },
  {
   "cell_type": "code",
   "execution_count": 93,
   "id": "5305ba25",
   "metadata": {},
   "outputs": [],
   "source": [
    "#Création de la colonne dispo_kcal avec calcul des kcal disponibles mondialement\n",
    "data_population2017_dispo_alimentaire['dispo_kcal']=\n",
    "data_population2017_dispo_alimentaire['Disponibilité alimentaire (Kcal/personne/jour)']\n",
    "*data_population2017_dispo_alimentaire['population']*365\n",
    "\n"
   ]
  },
  {
   "cell_type": "code",
   "execution_count": 94,
   "id": "a6d4af90",
   "metadata": {
    "scrolled": true
   },
   "outputs": [
    {
     "name": "stdout",
     "output_type": "stream",
     "text": [
      "10459492313.6655\n"
     ]
    }
   ],
   "source": [
    "#Calcul du nombre d'humains pouvant être nourris\n",
    "nombre_humains=data_population2017_dispo_alimentaire['dispo_kcal'].sum()/(2000*365)\n",
    "print(nombre_humains)"
   ]
  },
  {
   "cell_type": "code",
   "execution_count": 145,
   "id": "0b1d8068",
   "metadata": {},
   "outputs": [
    {
     "name": "stdout",
     "output_type": "stream",
     "text": [
      "138.57056803512194\n"
     ]
    }
   ],
   "source": [
    "poucentage_humains=nombre_humains/population2017['population'].sum()*100\n",
    "print(poucentage_humains)"
   ]
  },
  {
   "cell_type": "markdown",
   "id": "e97c8886",
   "metadata": {},
   "source": [
    "<div style=\"border: 1px solid RGB(0,150,250);\" >\n",
    "<h3 style=\"margin: auto; padding: 20px; color: RGB(0,150,250); \">3.3 - Nombre théorique de personne qui pourrait être nourrie avec les produits végétaux</h3>\n",
    "</div>"
   ]
  },
  {
   "cell_type": "code",
   "execution_count": 96,
   "id": "c2e3c87c",
   "metadata": {},
   "outputs": [
    {
     "data": {
      "text/html": [
       "<div>\n",
       "<style scoped>\n",
       "    .dataframe tbody tr th:only-of-type {\n",
       "        vertical-align: middle;\n",
       "    }\n",
       "\n",
       "    .dataframe tbody tr th {\n",
       "        vertical-align: top;\n",
       "    }\n",
       "\n",
       "    .dataframe thead th {\n",
       "        text-align: right;\n",
       "    }\n",
       "</style>\n",
       "<table border=\"1\" class=\"dataframe\">\n",
       "  <thead>\n",
       "    <tr style=\"text-align: right;\">\n",
       "      <th></th>\n",
       "      <th>Zone</th>\n",
       "      <th>population</th>\n",
       "      <th>Produit</th>\n",
       "      <th>Origine</th>\n",
       "      <th>Aliments pour animaux</th>\n",
       "      <th>Autres Utilisations</th>\n",
       "      <th>Disponibilité alimentaire (Kcal/personne/jour)</th>\n",
       "      <th>Disponibilité alimentaire en quantité (kg/personne/an)</th>\n",
       "      <th>Disponibilité de matière grasse en quantité (g/personne/jour)</th>\n",
       "      <th>Disponibilité de protéines en quantité (g/personne/jour)</th>\n",
       "      <th>Disponibilité intérieure</th>\n",
       "      <th>Exportations - Quantité</th>\n",
       "      <th>Importations - Quantité</th>\n",
       "      <th>Nourriture</th>\n",
       "      <th>Pertes</th>\n",
       "      <th>Production</th>\n",
       "      <th>Semences</th>\n",
       "      <th>Traitement</th>\n",
       "      <th>Variation de stock</th>\n",
       "      <th>dispo_kcal</th>\n",
       "    </tr>\n",
       "  </thead>\n",
       "  <tbody>\n",
       "    <tr>\n",
       "      <th>1</th>\n",
       "      <td>Afghanistan</td>\n",
       "      <td>36296113.0</td>\n",
       "      <td>Agrumes, Autres</td>\n",
       "      <td>vegetale</td>\n",
       "      <td>0.0</td>\n",
       "      <td>0.0</td>\n",
       "      <td>1.0</td>\n",
       "      <td>1.29</td>\n",
       "      <td>0.01</td>\n",
       "      <td>0.02</td>\n",
       "      <td>4.100000e+13</td>\n",
       "      <td>2.000000e+12</td>\n",
       "      <td>4.000000e+13</td>\n",
       "      <td>3.900000e+13</td>\n",
       "      <td>2.000000e+12</td>\n",
       "      <td>3.000000e+12</td>\n",
       "      <td>0.0</td>\n",
       "      <td>0.0</td>\n",
       "      <td>0.0</td>\n",
       "      <td>1.324808e+10</td>\n",
       "    </tr>\n",
       "    <tr>\n",
       "      <th>2</th>\n",
       "      <td>Afghanistan</td>\n",
       "      <td>36296113.0</td>\n",
       "      <td>Aliments pour enfants</td>\n",
       "      <td>vegetale</td>\n",
       "      <td>0.0</td>\n",
       "      <td>0.0</td>\n",
       "      <td>1.0</td>\n",
       "      <td>0.06</td>\n",
       "      <td>0.01</td>\n",
       "      <td>0.03</td>\n",
       "      <td>2.000000e+12</td>\n",
       "      <td>0.000000e+00</td>\n",
       "      <td>2.000000e+12</td>\n",
       "      <td>2.000000e+12</td>\n",
       "      <td>0.000000e+00</td>\n",
       "      <td>0.000000e+00</td>\n",
       "      <td>0.0</td>\n",
       "      <td>0.0</td>\n",
       "      <td>0.0</td>\n",
       "      <td>1.324808e+10</td>\n",
       "    </tr>\n",
       "    <tr>\n",
       "      <th>3</th>\n",
       "      <td>Afghanistan</td>\n",
       "      <td>36296113.0</td>\n",
       "      <td>Ananas</td>\n",
       "      <td>vegetale</td>\n",
       "      <td>0.0</td>\n",
       "      <td>0.0</td>\n",
       "      <td>0.0</td>\n",
       "      <td>0.00</td>\n",
       "      <td>0.00</td>\n",
       "      <td>0.00</td>\n",
       "      <td>0.000000e+00</td>\n",
       "      <td>0.000000e+00</td>\n",
       "      <td>0.000000e+00</td>\n",
       "      <td>0.000000e+00</td>\n",
       "      <td>0.000000e+00</td>\n",
       "      <td>0.000000e+00</td>\n",
       "      <td>0.0</td>\n",
       "      <td>0.0</td>\n",
       "      <td>0.0</td>\n",
       "      <td>0.000000e+00</td>\n",
       "    </tr>\n",
       "    <tr>\n",
       "      <th>4</th>\n",
       "      <td>Afghanistan</td>\n",
       "      <td>36296113.0</td>\n",
       "      <td>Bananes</td>\n",
       "      <td>vegetale</td>\n",
       "      <td>0.0</td>\n",
       "      <td>0.0</td>\n",
       "      <td>4.0</td>\n",
       "      <td>2.70</td>\n",
       "      <td>0.02</td>\n",
       "      <td>0.05</td>\n",
       "      <td>8.200000e+13</td>\n",
       "      <td>0.000000e+00</td>\n",
       "      <td>8.200000e+13</td>\n",
       "      <td>8.200000e+13</td>\n",
       "      <td>0.000000e+00</td>\n",
       "      <td>0.000000e+00</td>\n",
       "      <td>0.0</td>\n",
       "      <td>0.0</td>\n",
       "      <td>0.0</td>\n",
       "      <td>5.299232e+10</td>\n",
       "    </tr>\n",
       "    <tr>\n",
       "      <th>6</th>\n",
       "      <td>Afghanistan</td>\n",
       "      <td>36296113.0</td>\n",
       "      <td>Bière</td>\n",
       "      <td>vegetale</td>\n",
       "      <td>0.0</td>\n",
       "      <td>0.0</td>\n",
       "      <td>0.0</td>\n",
       "      <td>0.09</td>\n",
       "      <td>0.00</td>\n",
       "      <td>0.00</td>\n",
       "      <td>3.000000e+12</td>\n",
       "      <td>0.000000e+00</td>\n",
       "      <td>3.000000e+12</td>\n",
       "      <td>3.000000e+12</td>\n",
       "      <td>0.000000e+00</td>\n",
       "      <td>0.000000e+00</td>\n",
       "      <td>0.0</td>\n",
       "      <td>0.0</td>\n",
       "      <td>0.0</td>\n",
       "      <td>0.000000e+00</td>\n",
       "    </tr>\n",
       "  </tbody>\n",
       "</table>\n",
       "</div>"
      ],
      "text/plain": [
       "          Zone  population                Produit   Origine  \\\n",
       "1  Afghanistan  36296113.0        Agrumes, Autres  vegetale   \n",
       "2  Afghanistan  36296113.0  Aliments pour enfants  vegetale   \n",
       "3  Afghanistan  36296113.0                 Ananas  vegetale   \n",
       "4  Afghanistan  36296113.0                Bananes  vegetale   \n",
       "6  Afghanistan  36296113.0                  Bière  vegetale   \n",
       "\n",
       "   Aliments pour animaux  Autres Utilisations  \\\n",
       "1                    0.0                  0.0   \n",
       "2                    0.0                  0.0   \n",
       "3                    0.0                  0.0   \n",
       "4                    0.0                  0.0   \n",
       "6                    0.0                  0.0   \n",
       "\n",
       "   Disponibilité alimentaire (Kcal/personne/jour)  \\\n",
       "1                                             1.0   \n",
       "2                                             1.0   \n",
       "3                                             0.0   \n",
       "4                                             4.0   \n",
       "6                                             0.0   \n",
       "\n",
       "   Disponibilité alimentaire en quantité (kg/personne/an)  \\\n",
       "1                                               1.29        \n",
       "2                                               0.06        \n",
       "3                                               0.00        \n",
       "4                                               2.70        \n",
       "6                                               0.09        \n",
       "\n",
       "   Disponibilité de matière grasse en quantité (g/personne/jour)  \\\n",
       "1                                               0.01               \n",
       "2                                               0.01               \n",
       "3                                               0.00               \n",
       "4                                               0.02               \n",
       "6                                               0.00               \n",
       "\n",
       "   Disponibilité de protéines en quantité (g/personne/jour)  \\\n",
       "1                                               0.02          \n",
       "2                                               0.03          \n",
       "3                                               0.00          \n",
       "4                                               0.05          \n",
       "6                                               0.00          \n",
       "\n",
       "   Disponibilité intérieure  Exportations - Quantité  Importations - Quantité  \\\n",
       "1              4.100000e+13             2.000000e+12             4.000000e+13   \n",
       "2              2.000000e+12             0.000000e+00             2.000000e+12   \n",
       "3              0.000000e+00             0.000000e+00             0.000000e+00   \n",
       "4              8.200000e+13             0.000000e+00             8.200000e+13   \n",
       "6              3.000000e+12             0.000000e+00             3.000000e+12   \n",
       "\n",
       "     Nourriture        Pertes    Production  Semences  Traitement  \\\n",
       "1  3.900000e+13  2.000000e+12  3.000000e+12       0.0         0.0   \n",
       "2  2.000000e+12  0.000000e+00  0.000000e+00       0.0         0.0   \n",
       "3  0.000000e+00  0.000000e+00  0.000000e+00       0.0         0.0   \n",
       "4  8.200000e+13  0.000000e+00  0.000000e+00       0.0         0.0   \n",
       "6  3.000000e+12  0.000000e+00  0.000000e+00       0.0         0.0   \n",
       "\n",
       "   Variation de stock    dispo_kcal  \n",
       "1                 0.0  1.324808e+10  \n",
       "2                 0.0  1.324808e+10  \n",
       "3                 0.0  0.000000e+00  \n",
       "4                 0.0  5.299232e+10  \n",
       "6                 0.0  0.000000e+00  "
      ]
     },
     "execution_count": 96,
     "metadata": {},
     "output_type": "execute_result"
    }
   ],
   "source": [
    "#Transfert des données avec les végétaux dans un nouveau dataframe\n",
    "data_vegeteaux=data_population2017_dispo_alimentaire.loc[data_population2017_dispo_alimentaire['Origine']== 'vegetale',:]\n",
    "data_vegeteaux.head()"
   ]
  },
  {
   "cell_type": "code",
   "execution_count": 97,
   "id": "534f3ad7",
   "metadata": {},
   "outputs": [
    {
     "name": "stdout",
     "output_type": "stream",
     "text": [
      "6300178937197865.0\n"
     ]
    }
   ],
   "source": [
    "#Calcul du nombre de kcal disponible pour les végétaux\n",
    "nombre_kcal_vegeteaux=data_vegeteaux['dispo_kcal'].sum()\n",
    "print(nombre_kcal_vegeteaux)"
   ]
  },
  {
   "cell_type": "code",
   "execution_count": 98,
   "id": "8c82da41",
   "metadata": {},
   "outputs": [
    {
     "name": "stdout",
     "output_type": "stream",
     "text": [
      "8630382105.7505\n"
     ]
    }
   ],
   "source": [
    "#Calcul du nombre d'humains pouvant être nourris avec les végétaux\n",
    "nombre_humains_nourris_végéteaux=nombre_kcal_vegeteaux/(2000*365)\n",
    "print(nombre_humains_nourris_végéteaux)"
   ]
  },
  {
   "cell_type": "code",
   "execution_count": 170,
   "id": "3f586e93",
   "metadata": {},
   "outputs": [
    {
     "data": {
      "text/plain": [
       "114.33795397425868"
      ]
     },
     "execution_count": 170,
     "metadata": {},
     "output_type": "execute_result"
    }
   ],
   "source": [
    "#pourcentage d'humains pouvant être nourris avec les végétaux\n",
    "nombre_humains_nourris_végéteaux/population2017['population'].sum()*100"
   ]
  },
  {
   "cell_type": "markdown",
   "id": "cd07afb1",
   "metadata": {},
   "source": [
    "<div style=\"border: 1px solid RGB(0,150,250);\" >\n",
    "<h3 style=\"margin: auto; padding: 20px; color: RGB(0,150,250); \">3.4 - Utilisation de la disponibilité intérieure</h3>\n",
    "</div>"
   ]
  },
  {
   "cell_type": "code",
   "execution_count": 99,
   "id": "71328746",
   "metadata": {},
   "outputs": [
    {
     "name": "stdout",
     "output_type": "stream",
     "text": [
      "9.848994e+18\n"
     ]
    }
   ],
   "source": [
    "#Calcul de la disponibilité totale\n",
    "disponibilite_total=dispo_alimentaire['Disponibilité intérieure'].sum()\n",
    "print(disponibilite_total)"
   ]
  },
  {
   "cell_type": "code",
   "execution_count": 100,
   "id": "03248095",
   "metadata": {
    "scrolled": true
   },
   "outputs": [
    {
     "name": "stdout",
     "output_type": "stream",
     "text": [
      "Aliments pour animaux 13.242418464261426\n",
      "Pertes 4.606541541196999\n",
      "Nourriture 49.51021393657057\n",
      "Semences 1.5705258831511117\n",
      "Traitement 22.384895350733284\n",
      "Autres Utilisations 8.782856401374596\n"
     ]
    }
   ],
   "source": [
    "#création d'une boucle for pour afficher les différentes valeurs en fonction des colonnes aliments pour animaux, pertes, nourritures,Semences,Traitement,Autres utilisations \n",
    "liste=['Aliments pour animaux','Pertes','Nourriture','Semences','Traitement','Autres Utilisations']\n",
    "for elt in liste:   \n",
    " print(elt,dispo_alimentaire[elt].sum()*100/disponibilite_total)"
   ]
  },
  {
   "cell_type": "code",
   "execution_count": 169,
   "id": "b799504e",
   "metadata": {},
   "outputs": [
    {
     "data": {
      "text/plain": [
       "Text(0.5, 1.0, 'Répartition de la disponibilité interieure')"
      ]
     },
     "execution_count": 169,
     "metadata": {},
     "output_type": "execute_result"
    },
    {
     "data": {
      "image/png": "[encoded data removed]",
      "text/plain": [
       "<Figure size 640x480 with 1 Axes>"
      ]
     },
     "metadata": {},
     "output_type": "display_data"
    }
   ],
   "source": [
    "labels='Aliments pour animaux','Pertes','Nourriture','Semences','Traitement','Autres Utilisations'\n",
    "sizes=[13.24,4.60,49.51,1.57,22.38,8.78]\n",
    "fig,ax=plt.subplots()\n",
    "ax.pie(sizes, labels=labels,autopct='%1.2f%%')\n",
    "plt.title('Répartition de la disponibilité interieure')"
   ]
  },
  {
   "cell_type": "markdown",
   "id": "141d05df",
   "metadata": {},
   "source": [
    "<div style=\"border: 1px solid RGB(0,150,250);\" >\n",
    "<h3 style=\"margin: auto; padding: 20px; color: RGB(0,150,250); \">3.5 - Utilisation des céréales</h3>\n",
    "</div>"
   ]
  },
  {
   "cell_type": "code",
   "execution_count": 101,
   "id": "c27448ff",
   "metadata": {},
   "outputs": [],
   "source": [
    "#Création d'une liste avec toutes les variables\n",
    "\n",
    "liste=['Blé','Riz (Eq Blanchi)','Orge','Maïs','Seigle','Avoine','Millet','Sorgho','Céréales','Autres']"
   ]
  },
  {
   "cell_type": "code",
   "execution_count": 103,
   "id": "5dc5586d",
   "metadata": {},
   "outputs": [
    {
     "data": {
      "text/html": [
       "<div>\n",
       "<style scoped>\n",
       "    .dataframe tbody tr th:only-of-type {\n",
       "        vertical-align: middle;\n",
       "    }\n",
       "\n",
       "    .dataframe tbody tr th {\n",
       "        vertical-align: top;\n",
       "    }\n",
       "\n",
       "    .dataframe thead th {\n",
       "        text-align: right;\n",
       "    }\n",
       "</style>\n",
       "<table border=\"1\" class=\"dataframe\">\n",
       "  <thead>\n",
       "    <tr style=\"text-align: right;\">\n",
       "      <th></th>\n",
       "      <th>Zone</th>\n",
       "      <th>Produit</th>\n",
       "      <th>Origine</th>\n",
       "      <th>Aliments pour animaux</th>\n",
       "      <th>Autres Utilisations</th>\n",
       "      <th>Disponibilité alimentaire (Kcal/personne/jour)</th>\n",
       "      <th>Disponibilité alimentaire en quantité (kg/personne/an)</th>\n",
       "      <th>Disponibilité de matière grasse en quantité (g/personne/jour)</th>\n",
       "      <th>Disponibilité de protéines en quantité (g/personne/jour)</th>\n",
       "      <th>Disponibilité intérieure</th>\n",
       "      <th>Exportations - Quantité</th>\n",
       "      <th>Importations - Quantité</th>\n",
       "      <th>Nourriture</th>\n",
       "      <th>Pertes</th>\n",
       "      <th>Production</th>\n",
       "      <th>Semences</th>\n",
       "      <th>Traitement</th>\n",
       "      <th>Variation de stock</th>\n",
       "    </tr>\n",
       "  </thead>\n",
       "  <tbody>\n",
       "    <tr>\n",
       "      <th>7</th>\n",
       "      <td>Afghanistan</td>\n",
       "      <td>Blé</td>\n",
       "      <td>vegetale</td>\n",
       "      <td>0.000000e+00</td>\n",
       "      <td>0.0</td>\n",
       "      <td>1369.0</td>\n",
       "      <td>160.23</td>\n",
       "      <td>4.69</td>\n",
       "      <td>36.91</td>\n",
       "      <td>5.992000e+15</td>\n",
       "      <td>0.0</td>\n",
       "      <td>1.173000e+15</td>\n",
       "      <td>4.895000e+15</td>\n",
       "      <td>7.750000e+14</td>\n",
       "      <td>5.169000e+15</td>\n",
       "      <td>3.220000e+14</td>\n",
       "      <td>0.0</td>\n",
       "      <td>-3.500000e+14</td>\n",
       "    </tr>\n",
       "    <tr>\n",
       "      <th>32</th>\n",
       "      <td>Afghanistan</td>\n",
       "      <td>Maïs</td>\n",
       "      <td>vegetale</td>\n",
       "      <td>2.000000e+14</td>\n",
       "      <td>0.0</td>\n",
       "      <td>21.0</td>\n",
       "      <td>2.50</td>\n",
       "      <td>0.30</td>\n",
       "      <td>0.56</td>\n",
       "      <td>3.130000e+14</td>\n",
       "      <td>0.0</td>\n",
       "      <td>1.000000e+12</td>\n",
       "      <td>7.600000e+13</td>\n",
       "      <td>3.100000e+13</td>\n",
       "      <td>3.120000e+14</td>\n",
       "      <td>5.000000e+12</td>\n",
       "      <td>0.0</td>\n",
       "      <td>0.000000e+00</td>\n",
       "    </tr>\n",
       "    <tr>\n",
       "      <th>34</th>\n",
       "      <td>Afghanistan</td>\n",
       "      <td>Millet</td>\n",
       "      <td>vegetale</td>\n",
       "      <td>0.000000e+00</td>\n",
       "      <td>0.0</td>\n",
       "      <td>3.0</td>\n",
       "      <td>0.40</td>\n",
       "      <td>0.02</td>\n",
       "      <td>0.08</td>\n",
       "      <td>1.300000e+13</td>\n",
       "      <td>0.0</td>\n",
       "      <td>0.000000e+00</td>\n",
       "      <td>1.200000e+13</td>\n",
       "      <td>1.000000e+12</td>\n",
       "      <td>1.300000e+13</td>\n",
       "      <td>0.000000e+00</td>\n",
       "      <td>0.0</td>\n",
       "      <td>0.000000e+00</td>\n",
       "    </tr>\n",
       "    <tr>\n",
       "      <th>40</th>\n",
       "      <td>Afghanistan</td>\n",
       "      <td>Orge</td>\n",
       "      <td>vegetale</td>\n",
       "      <td>3.600000e+14</td>\n",
       "      <td>0.0</td>\n",
       "      <td>26.0</td>\n",
       "      <td>2.92</td>\n",
       "      <td>0.24</td>\n",
       "      <td>0.79</td>\n",
       "      <td>5.240000e+14</td>\n",
       "      <td>0.0</td>\n",
       "      <td>1.000000e+13</td>\n",
       "      <td>8.900000e+13</td>\n",
       "      <td>5.200000e+13</td>\n",
       "      <td>5.140000e+14</td>\n",
       "      <td>2.200000e+13</td>\n",
       "      <td>0.0</td>\n",
       "      <td>0.000000e+00</td>\n",
       "    </tr>\n",
       "    <tr>\n",
       "      <th>47</th>\n",
       "      <td>Afghanistan</td>\n",
       "      <td>Riz (Eq Blanchi)</td>\n",
       "      <td>vegetale</td>\n",
       "      <td>0.000000e+00</td>\n",
       "      <td>0.0</td>\n",
       "      <td>141.0</td>\n",
       "      <td>13.82</td>\n",
       "      <td>0.27</td>\n",
       "      <td>2.70</td>\n",
       "      <td>4.610000e+14</td>\n",
       "      <td>0.0</td>\n",
       "      <td>1.190000e+14</td>\n",
       "      <td>4.220000e+14</td>\n",
       "      <td>2.400000e+13</td>\n",
       "      <td>3.420000e+14</td>\n",
       "      <td>1.400000e+13</td>\n",
       "      <td>0.0</td>\n",
       "      <td>0.000000e+00</td>\n",
       "    </tr>\n",
       "  </tbody>\n",
       "</table>\n",
       "</div>"
      ],
      "text/plain": [
       "           Zone           Produit   Origine  Aliments pour animaux  \\\n",
       "7   Afghanistan               Blé  vegetale           0.000000e+00   \n",
       "32  Afghanistan              Maïs  vegetale           2.000000e+14   \n",
       "34  Afghanistan            Millet  vegetale           0.000000e+00   \n",
       "40  Afghanistan              Orge  vegetale           3.600000e+14   \n",
       "47  Afghanistan  Riz (Eq Blanchi)  vegetale           0.000000e+00   \n",
       "\n",
       "    Autres Utilisations  Disponibilité alimentaire (Kcal/personne/jour)  \\\n",
       "7                   0.0                                          1369.0   \n",
       "32                  0.0                                            21.0   \n",
       "34                  0.0                                             3.0   \n",
       "40                  0.0                                            26.0   \n",
       "47                  0.0                                           141.0   \n",
       "\n",
       "    Disponibilité alimentaire en quantité (kg/personne/an)  \\\n",
       "7                                              160.23        \n",
       "32                                               2.50        \n",
       "34                                               0.40        \n",
       "40                                               2.92        \n",
       "47                                              13.82        \n",
       "\n",
       "    Disponibilité de matière grasse en quantité (g/personne/jour)  \\\n",
       "7                                                4.69               \n",
       "32                                               0.30               \n",
       "34                                               0.02               \n",
       "40                                               0.24               \n",
       "47                                               0.27               \n",
       "\n",
       "    Disponibilité de protéines en quantité (g/personne/jour)  \\\n",
       "7                                               36.91          \n",
       "32                                               0.56          \n",
       "34                                               0.08          \n",
       "40                                               0.79          \n",
       "47                                               2.70          \n",
       "\n",
       "    Disponibilité intérieure  Exportations - Quantité  \\\n",
       "7               5.992000e+15                      0.0   \n",
       "32              3.130000e+14                      0.0   \n",
       "34              1.300000e+13                      0.0   \n",
       "40              5.240000e+14                      0.0   \n",
       "47              4.610000e+14                      0.0   \n",
       "\n",
       "    Importations - Quantité    Nourriture        Pertes    Production  \\\n",
       "7              1.173000e+15  4.895000e+15  7.750000e+14  5.169000e+15   \n",
       "32             1.000000e+12  7.600000e+13  3.100000e+13  3.120000e+14   \n",
       "34             0.000000e+00  1.200000e+13  1.000000e+12  1.300000e+13   \n",
       "40             1.000000e+13  8.900000e+13  5.200000e+13  5.140000e+14   \n",
       "47             1.190000e+14  4.220000e+14  2.400000e+13  3.420000e+14   \n",
       "\n",
       "        Semences  Traitement  Variation de stock  \n",
       "7   3.220000e+14         0.0       -3.500000e+14  \n",
       "32  5.000000e+12         0.0        0.000000e+00  \n",
       "34  0.000000e+00         0.0        0.000000e+00  \n",
       "40  2.200000e+13         0.0        0.000000e+00  \n",
       "47  1.400000e+13         0.0        0.000000e+00  "
      ]
     },
     "execution_count": 103,
     "metadata": {},
     "output_type": "execute_result"
    }
   ],
   "source": [
    "#Création d'un dataframe avec les informations uniquement pour ces céréales\n",
    "data_cereales=dispo_alimentaire.loc[dispo_alimentaire['Produit'].isin(liste),:]\n",
    "data_cereales.head()"
   ]
  },
  {
   "cell_type": "code",
   "execution_count": 104,
   "id": "8365de95",
   "metadata": {},
   "outputs": [
    {
     "name": "stdout",
     "output_type": "stream",
     "text": [
      "35.91069436868201\n"
     ]
    }
   ],
   "source": [
    "#Affichage de la proportion d'alimentation animale \n",
    "proportion_alimentation_animale=(data_cereales['Aliments pour animaux'].sum()/data_cereales['Disponibilité intérieure'].sum())*100\n",
    "print(proportion_alimentation_animale)"
   ]
  },
  {
   "cell_type": "code",
   "execution_count": 105,
   "id": "6f5e93c7",
   "metadata": {},
   "outputs": [
    {
     "name": "stdout",
     "output_type": "stream",
     "text": [
      "43.02080172673916\n"
     ]
    }
   ],
   "source": [
    "#Affichage de la proportion d'alimentation humaine\n",
    "proportion_alimentation_humaine=(data_cereales['Nourriture'].sum()/data_cereales['Disponibilité intérieure'].sum())*100\n",
    "print(proportion_alimentation_humaine)"
   ]
  },
  {
   "cell_type": "markdown",
   "id": "a603be79",
   "metadata": {},
   "source": [
    "<div style=\"border: 1px solid RGB(0,150,250);\" >\n",
    "<h3 style=\"margin: auto; padding: 20px; color: RGB(0,150,250); \">3.6 - Pays avec la proportion de personnes sous-alimentée la plus forte en 2017</h3>\n",
    "</div>"
   ]
  },
  {
   "cell_type": "code",
   "execution_count": 106,
   "id": "1884c270",
   "metadata": {},
   "outputs": [],
   "source": [
    "#Création de la colonne proportion par pays\n",
    "Data['proportion par pays']=Data['sous_nutrition']/Data['population']*100\n"
   ]
  },
  {
   "cell_type": "code",
   "execution_count": 107,
   "id": "25a185b6",
   "metadata": {},
   "outputs": [
    {
     "data": {
      "text/html": [
       "<div>\n",
       "<style scoped>\n",
       "    .dataframe tbody tr th:only-of-type {\n",
       "        vertical-align: middle;\n",
       "    }\n",
       "\n",
       "    .dataframe tbody tr th {\n",
       "        vertical-align: top;\n",
       "    }\n",
       "\n",
       "    .dataframe thead th {\n",
       "        text-align: right;\n",
       "    }\n",
       "</style>\n",
       "<table border=\"1\" class=\"dataframe\">\n",
       "  <thead>\n",
       "    <tr style=\"text-align: right;\">\n",
       "      <th></th>\n",
       "      <th>Zone</th>\n",
       "      <th>population</th>\n",
       "      <th>sous_nutrition</th>\n",
       "      <th>proportion par pays</th>\n",
       "    </tr>\n",
       "  </thead>\n",
       "  <tbody>\n",
       "    <tr>\n",
       "      <th>78</th>\n",
       "      <td>Haïti</td>\n",
       "      <td>10982366.0</td>\n",
       "      <td>5300000.0</td>\n",
       "      <td>48.259182</td>\n",
       "    </tr>\n",
       "    <tr>\n",
       "      <th>157</th>\n",
       "      <td>République populaire démocratique de Corée</td>\n",
       "      <td>25429825.0</td>\n",
       "      <td>12000000.0</td>\n",
       "      <td>47.188685</td>\n",
       "    </tr>\n",
       "    <tr>\n",
       "      <th>108</th>\n",
       "      <td>Madagascar</td>\n",
       "      <td>25570512.0</td>\n",
       "      <td>10500000.0</td>\n",
       "      <td>41.062924</td>\n",
       "    </tr>\n",
       "    <tr>\n",
       "      <th>103</th>\n",
       "      <td>Libéria</td>\n",
       "      <td>4702226.0</td>\n",
       "      <td>1800000.0</td>\n",
       "      <td>38.279742</td>\n",
       "    </tr>\n",
       "    <tr>\n",
       "      <th>100</th>\n",
       "      <td>Lesotho</td>\n",
       "      <td>2091534.0</td>\n",
       "      <td>800000.0</td>\n",
       "      <td>38.249438</td>\n",
       "    </tr>\n",
       "    <tr>\n",
       "      <th>183</th>\n",
       "      <td>Tchad</td>\n",
       "      <td>15016753.0</td>\n",
       "      <td>5700000.0</td>\n",
       "      <td>37.957606</td>\n",
       "    </tr>\n",
       "    <tr>\n",
       "      <th>161</th>\n",
       "      <td>Rwanda</td>\n",
       "      <td>11980961.0</td>\n",
       "      <td>4200000.0</td>\n",
       "      <td>35.055619</td>\n",
       "    </tr>\n",
       "    <tr>\n",
       "      <th>121</th>\n",
       "      <td>Mozambique</td>\n",
       "      <td>28649018.0</td>\n",
       "      <td>9400000.0</td>\n",
       "      <td>32.810898</td>\n",
       "    </tr>\n",
       "    <tr>\n",
       "      <th>186</th>\n",
       "      <td>Timor-Leste</td>\n",
       "      <td>1243258.0</td>\n",
       "      <td>400000.0</td>\n",
       "      <td>32.173531</td>\n",
       "    </tr>\n",
       "    <tr>\n",
       "      <th>0</th>\n",
       "      <td>Afghanistan</td>\n",
       "      <td>36296113.0</td>\n",
       "      <td>10500000.0</td>\n",
       "      <td>28.928718</td>\n",
       "    </tr>\n",
       "  </tbody>\n",
       "</table>\n",
       "</div>"
      ],
      "text/plain": [
       "                                           Zone  population  sous_nutrition  \\\n",
       "78                                        Haïti  10982366.0       5300000.0   \n",
       "157  République populaire démocratique de Corée  25429825.0      12000000.0   \n",
       "108                                  Madagascar  25570512.0      10500000.0   \n",
       "103                                     Libéria   4702226.0       1800000.0   \n",
       "100                                     Lesotho   2091534.0        800000.0   \n",
       "183                                       Tchad  15016753.0       5700000.0   \n",
       "161                                      Rwanda  11980961.0       4200000.0   \n",
       "121                                  Mozambique  28649018.0       9400000.0   \n",
       "186                                 Timor-Leste   1243258.0        400000.0   \n",
       "0                                   Afghanistan  36296113.0      10500000.0   \n",
       "\n",
       "     proportion par pays  \n",
       "78             48.259182  \n",
       "157            47.188685  \n",
       "108            41.062924  \n",
       "103            38.279742  \n",
       "100            38.249438  \n",
       "183            37.957606  \n",
       "161            35.055619  \n",
       "121            32.810898  \n",
       "186            32.173531  \n",
       "0              28.928718  "
      ]
     },
     "execution_count": 107,
     "metadata": {},
     "output_type": "execute_result"
    }
   ],
   "source": [
    "#affichage après trie des 10 pires pays\n",
    "Data_sorted=Data.sort_values('proportion par pays',ascending=False).head(10)\n",
    "Data_sorted.head(10)"
   ]
  },
  {
   "cell_type": "code",
   "execution_count": 198,
   "id": "90a4b6ca",
   "metadata": {},
   "outputs": [
    {
     "data": {
      "image/png": "[encoded data removed]",
      "text/plain": [
       "<Figure size 2700x1000 with 1 Axes>"
      ]
     },
     "metadata": {},
     "output_type": "display_data"
    }
   ],
   "source": [
    "#graphique proportion par pays (10 pires pays)\n",
    "plt.figure(figsize=(27,10))\n",
    "plt.bar(height=Data_sorted['proportion par pays'],x=Data_sorted['Zone'])\n",
    "plt.title('10 pays où la sous-nutrition est la plus forte en 2017',fontsize=30)\n",
    "plt.xlabel('Zone',fontsize=30)\n",
    "plt.ylabel('proportion par pays',fontsize=30)\n",
    "proportion=Data_sorted['proportion par pays'].tolist()\n",
    "for i in range(10):\n",
    "    plt.text(i,proportion[i],round(proportion[i],1),fontsize=30)\n"
   ]
  },
  {
   "cell_type": "markdown",
   "id": "4f610008",
   "metadata": {},
   "source": [
    "<div style=\"border: 1px solid RGB(0,150,250);\" >\n",
    "<h3 style=\"margin: auto; padding: 20px; color: RGB(0,150,250); \">3.7 - Pays qui ont le plus bénéficié d'aide alimentaire depuis 2013</h3>\n",
    "</div>"
   ]
  },
  {
   "cell_type": "code",
   "execution_count": 109,
   "id": "ff1b24a3",
   "metadata": {
    "scrolled": true
   },
   "outputs": [
    {
     "data": {
      "text/plain": [
       "zone\n",
       "Afghanistan     185452000\n",
       "Algérie          81114000\n",
       "Angola            5014000\n",
       "Bangladesh      348188000\n",
       "Bhoutan           2666000\n",
       "                  ...    \n",
       "Zambie            3026000\n",
       "Zimbabwe         62570000\n",
       "Égypte            1122000\n",
       "Équateur          1362000\n",
       "Éthiopie       1381294000\n",
       "Name: Valeur, Length: 76, dtype: int64"
      ]
     },
     "execution_count": 109,
     "metadata": {},
     "output_type": "execute_result"
    }
   ],
   "source": [
    "#calcul du total de l'aide alimentaire par pays\n",
    "aide_alimentaire.groupby('zone')['Valeur'].sum()"
   ]
  },
  {
   "cell_type": "code",
   "execution_count": 110,
   "id": "ee1ac6fb",
   "metadata": {},
   "outputs": [
    {
     "data": {
      "text/plain": [
       "zone\n",
       "République arabe syrienne           1858943000\n",
       "Éthiopie                            1381294000\n",
       "Yémen                               1206484000\n",
       "Soudan du Sud                        695248000\n",
       "Soudan                               669784000\n",
       "Kenya                                552836000\n",
       "Bangladesh                           348188000\n",
       "Somalie                              292678000\n",
       "République démocratique du Congo     288502000\n",
       "Niger                                276344000\n",
       "Name: Valeur, dtype: int64"
      ]
     },
     "execution_count": 110,
     "metadata": {},
     "output_type": "execute_result"
    }
   ],
   "source": [
    "#affichage après trie des 10 pays qui ont bénéficié le plus de l'aide alimentaire\n",
    "pays_plus_aide_alimentaire=aide_alimentaire.groupby('zone')['Valeur'].sum().sort_values(ascending=False).head(10)\n",
    "pays_plus_aide_alimentaire.head(10)"
   ]
  },
  {
   "cell_type": "markdown",
   "id": "a361ce61",
   "metadata": {},
   "source": [
    "<div style=\"border: 1px solid RGB(0,150,250);\" >\n",
    "<h3 style=\"margin: auto; padding: 20px; color: RGB(0,150,250); \">3.8 - Evolution des 5 pays qui ont le plus bénéficiés de l'aide alimentaire entre 2013 et 2016</h3>\n",
    "</div>"
   ]
  },
  {
   "cell_type": "code",
   "execution_count": 111,
   "id": "09d55114",
   "metadata": {},
   "outputs": [],
   "source": [
    "#Création d'un dataframe avec la zone, l'année et l'aide alimentaire puis groupby sur zone et année \n",
    "data_2013_2016 = aide_alimentaire[['zone','Année','Valeur']].groupby(['zone','Année']).sum().reset_index()\n"
   ]
  },
  {
   "cell_type": "code",
   "execution_count": 112,
   "id": "6bd577b0",
   "metadata": {},
   "outputs": [],
   "source": [
    "#Création d'une liste contenant les 5 pays qui ont le plus bénéficiées de l'aide alimentaire\n",
    "liste_data_2013_2016=['République arabe syrienne','Soudan','Éthiopie','Yémen','Soudan du Sud']\n"
   ]
  },
  {
   "cell_type": "code",
   "execution_count": 113,
   "id": "41612dbd",
   "metadata": {},
   "outputs": [],
   "source": [
    "#On filtre sur le dataframe avec notre liste\n",
    "data5pays=data_2013_2016.loc[data_2013_2016['zone'].isin(liste_data_2013_2016),:]"
   ]
  },
  {
   "cell_type": "code",
   "execution_count": 114,
   "id": "5680e72d",
   "metadata": {},
   "outputs": [
    {
     "data": {
      "text/html": [
       "<div>\n",
       "<style scoped>\n",
       "    .dataframe tbody tr th:only-of-type {\n",
       "        vertical-align: middle;\n",
       "    }\n",
       "\n",
       "    .dataframe tbody tr th {\n",
       "        vertical-align: top;\n",
       "    }\n",
       "\n",
       "    .dataframe thead th {\n",
       "        text-align: right;\n",
       "    }\n",
       "</style>\n",
       "<table border=\"1\" class=\"dataframe\">\n",
       "  <thead>\n",
       "    <tr style=\"text-align: right;\">\n",
       "      <th></th>\n",
       "      <th>zone</th>\n",
       "      <th>Année</th>\n",
       "      <th>Valeur</th>\n",
       "    </tr>\n",
       "  </thead>\n",
       "  <tbody>\n",
       "    <tr>\n",
       "      <th>157</th>\n",
       "      <td>République arabe syrienne</td>\n",
       "      <td>2013</td>\n",
       "      <td>563566000</td>\n",
       "    </tr>\n",
       "    <tr>\n",
       "      <th>158</th>\n",
       "      <td>République arabe syrienne</td>\n",
       "      <td>2014</td>\n",
       "      <td>651870000</td>\n",
       "    </tr>\n",
       "    <tr>\n",
       "      <th>159</th>\n",
       "      <td>République arabe syrienne</td>\n",
       "      <td>2015</td>\n",
       "      <td>524949000</td>\n",
       "    </tr>\n",
       "    <tr>\n",
       "      <th>160</th>\n",
       "      <td>République arabe syrienne</td>\n",
       "      <td>2016</td>\n",
       "      <td>118558000</td>\n",
       "    </tr>\n",
       "    <tr>\n",
       "      <th>189</th>\n",
       "      <td>Soudan</td>\n",
       "      <td>2013</td>\n",
       "      <td>330230000</td>\n",
       "    </tr>\n",
       "    <tr>\n",
       "      <th>190</th>\n",
       "      <td>Soudan</td>\n",
       "      <td>2014</td>\n",
       "      <td>321904000</td>\n",
       "    </tr>\n",
       "    <tr>\n",
       "      <th>191</th>\n",
       "      <td>Soudan</td>\n",
       "      <td>2015</td>\n",
       "      <td>17650000</td>\n",
       "    </tr>\n",
       "    <tr>\n",
       "      <th>192</th>\n",
       "      <td>Soudan du Sud</td>\n",
       "      <td>2013</td>\n",
       "      <td>196330000</td>\n",
       "    </tr>\n",
       "    <tr>\n",
       "      <th>193</th>\n",
       "      <td>Soudan du Sud</td>\n",
       "      <td>2014</td>\n",
       "      <td>450610000</td>\n",
       "    </tr>\n",
       "    <tr>\n",
       "      <th>194</th>\n",
       "      <td>Soudan du Sud</td>\n",
       "      <td>2015</td>\n",
       "      <td>48308000</td>\n",
       "    </tr>\n",
       "    <tr>\n",
       "      <th>214</th>\n",
       "      <td>Yémen</td>\n",
       "      <td>2013</td>\n",
       "      <td>264764000</td>\n",
       "    </tr>\n",
       "    <tr>\n",
       "      <th>215</th>\n",
       "      <td>Yémen</td>\n",
       "      <td>2014</td>\n",
       "      <td>103840000</td>\n",
       "    </tr>\n",
       "    <tr>\n",
       "      <th>216</th>\n",
       "      <td>Yémen</td>\n",
       "      <td>2015</td>\n",
       "      <td>372306000</td>\n",
       "    </tr>\n",
       "    <tr>\n",
       "      <th>217</th>\n",
       "      <td>Yémen</td>\n",
       "      <td>2016</td>\n",
       "      <td>465574000</td>\n",
       "    </tr>\n",
       "    <tr>\n",
       "      <th>225</th>\n",
       "      <td>Éthiopie</td>\n",
       "      <td>2013</td>\n",
       "      <td>591404000</td>\n",
       "    </tr>\n",
       "    <tr>\n",
       "      <th>226</th>\n",
       "      <td>Éthiopie</td>\n",
       "      <td>2014</td>\n",
       "      <td>586624000</td>\n",
       "    </tr>\n",
       "    <tr>\n",
       "      <th>227</th>\n",
       "      <td>Éthiopie</td>\n",
       "      <td>2015</td>\n",
       "      <td>203266000</td>\n",
       "    </tr>\n",
       "  </tbody>\n",
       "</table>\n",
       "</div>"
      ],
      "text/plain": [
       "                          zone  Année     Valeur\n",
       "157  République arabe syrienne   2013  563566000\n",
       "158  République arabe syrienne   2014  651870000\n",
       "159  République arabe syrienne   2015  524949000\n",
       "160  République arabe syrienne   2016  118558000\n",
       "189                     Soudan   2013  330230000\n",
       "190                     Soudan   2014  321904000\n",
       "191                     Soudan   2015   17650000\n",
       "192              Soudan du Sud   2013  196330000\n",
       "193              Soudan du Sud   2014  450610000\n",
       "194              Soudan du Sud   2015   48308000\n",
       "214                      Yémen   2013  264764000\n",
       "215                      Yémen   2014  103840000\n",
       "216                      Yémen   2015  372306000\n",
       "217                      Yémen   2016  465574000\n",
       "225                   Éthiopie   2013  591404000\n",
       "226                   Éthiopie   2014  586624000\n",
       "227                   Éthiopie   2015  203266000"
      ]
     },
     "execution_count": 114,
     "metadata": {},
     "output_type": "execute_result"
    }
   ],
   "source": [
    "# Affichage des pays avec l'aide alimentaire par année\n",
    "data5pays"
   ]
  },
  {
   "cell_type": "code",
   "execution_count": 165,
   "id": "7858dcd7",
   "metadata": {},
   "outputs": [
    {
     "data": {
      "text/plain": [
       "([<matplotlib.axis.XTick at 0x1f9e1345270>,\n",
       "  <matplotlib.axis.XTick at 0x1f9e1345240>,\n",
       "  <matplotlib.axis.XTick at 0x1f9e120e5f0>,\n",
       "  <matplotlib.axis.XTick at 0x1f9e136baf0>],\n",
       " [Text(2013, 0, '2013'),\n",
       "  Text(2014, 0, '2014'),\n",
       "  Text(2015, 0, '2015'),\n",
       "  Text(2016, 0, '2016')])"
      ]
     },
     "execution_count": 165,
     "metadata": {},
     "output_type": "execute_result"
    },
    {
     "data": {
      "image/png": "[encoded data removed]",
      "text/plain": [
       "<Figure size 1000x700 with 1 Axes>"
      ]
     },
     "metadata": {},
     "output_type": "display_data"
    }
   ],
   "source": [
    "plt.figure(figsize=(10,7))\n",
    "sns.lineplot(data=data5pays,x='Année',y='Valeur',hue='zone')\n",
    "plt.title('Les 5 pays qui ont béneficié le plus de laide alimentaire')\n",
    "plt.xlabel('Année',fontsize=15)\n",
    "plt.ylabel('Valeur',fontsize=15)\n",
    "plt.xticks([2013,2014,2015,2016])"
   ]
  },
  {
   "cell_type": "markdown",
   "id": "bd392dac",
   "metadata": {},
   "source": [
    "<div style=\"border: 1px solid RGB(0,150,250);\" >\n",
    "<h3 style=\"margin: auto; padding: 20px; color: RGB(0,150,250); \">3.9 - Pays avec le moins de disponibilité par habitant</h3>\n",
    "</div>"
   ]
  },
  {
   "cell_type": "code",
   "execution_count": 115,
   "id": "fb3a378b",
   "metadata": {},
   "outputs": [
    {
     "data": {
      "text/plain": [
       "Zone\n",
       "Afghanistan              2087.0\n",
       "Afrique du Sud           3020.0\n",
       "Albanie                  3188.0\n",
       "Algérie                  3293.0\n",
       "Allemagne                3503.0\n",
       "                          ...  \n",
       "Émirats arabes unis      3275.0\n",
       "Équateur                 2346.0\n",
       "États-Unis d'Amérique    3682.0\n",
       "Éthiopie                 2129.0\n",
       "Îles Salomon             2383.0\n",
       "Name: Disponibilité alimentaire (Kcal/personne/jour), Length: 172, dtype: float64"
      ]
     },
     "execution_count": 115,
     "metadata": {},
     "output_type": "execute_result"
    }
   ],
   "source": [
    "#Calcul de la disponibilité en kcal par personne par jour par pays\n",
    "data_population2017_dispo_alimentaire.groupby('Zone')['Disponibilité alimentaire (Kcal/personne/jour)'].sum()\n"
   ]
  },
  {
   "cell_type": "code",
   "execution_count": 116,
   "id": "70c0f689",
   "metadata": {},
   "outputs": [
    {
     "data": {
      "text/plain": [
       "Zone\n",
       "République centrafricaine                     1879.0\n",
       "Zambie                                        1924.0\n",
       "Madagascar                                    2056.0\n",
       "Afghanistan                                   2087.0\n",
       "Haïti                                         2089.0\n",
       "République populaire démocratique de Corée    2093.0\n",
       "Tchad                                         2109.0\n",
       "Zimbabwe                                      2113.0\n",
       "Ouganda                                       2126.0\n",
       "Timor-Leste                                   2129.0\n",
       "Name: Disponibilité alimentaire (Kcal/personne/jour), dtype: float64"
      ]
     },
     "execution_count": 116,
     "metadata": {},
     "output_type": "execute_result"
    }
   ],
   "source": [
    "#Affichage des 10 pays qui ont le moins de dispo alimentaire par personne \n",
    "data_population2017_dispo_alimentaire.groupby('Zone')['Disponibilité alimentaire (Kcal/personne/jour)'].sum().sort_values().head(10)"
   ]
  },
  {
   "cell_type": "markdown",
   "id": "2553ed12",
   "metadata": {},
   "source": [
    "<div style=\"border: 1px solid RGB(0,150,250);\" >\n",
    "<h3 style=\"margin: auto; padding: 20px; color: RGB(0,150,250); \">3.10 - Pays avec le plus de disponibilité par habitant</h3>\n",
    "</div>"
   ]
  },
  {
   "cell_type": "code",
   "execution_count": 117,
   "id": "63e835c6",
   "metadata": {},
   "outputs": [
    {
     "data": {
      "text/plain": [
       "Zone\n",
       "Autriche                 3770.0\n",
       "Belgique                 3737.0\n",
       "Turquie                  3708.0\n",
       "États-Unis d'Amérique    3682.0\n",
       "Israël                   3610.0\n",
       "Irlande                  3602.0\n",
       "Italie                   3578.0\n",
       "Luxembourg               3540.0\n",
       "Égypte                   3518.0\n",
       "Allemagne                3503.0\n",
       "Name: Disponibilité alimentaire (Kcal/personne/jour), dtype: float64"
      ]
     },
     "execution_count": 117,
     "metadata": {},
     "output_type": "execute_result"
    }
   ],
   "source": [
    "#Affichage des 10 pays qui ont le plus de dispo alimentaire par personne \n",
    "data_population2017_dispo_alimentaire.groupby('Zone')['Disponibilité alimentaire (Kcal/personne/jour)'].sum().sort_values(ascending=False).head(10)\n"
   ]
  },
  {
   "cell_type": "markdown",
   "id": "58d7248b",
   "metadata": {},
   "source": [
    "<div style=\"border: 1px solid RGB(0,150,250);\" >\n",
    "<h3 style=\"margin: auto; padding: 20px; color: RGB(0,150,250); \">3.11 - Exemple de la Thaïlande pour le Manioc</h3>\n",
    "</div>"
   ]
  },
  {
   "cell_type": "code",
   "execution_count": 119,
   "id": "ec9ca912",
   "metadata": {},
   "outputs": [
    {
     "data": {
      "text/html": [
       "<div>\n",
       "<style scoped>\n",
       "    .dataframe tbody tr th:only-of-type {\n",
       "        vertical-align: middle;\n",
       "    }\n",
       "\n",
       "    .dataframe tbody tr th {\n",
       "        vertical-align: top;\n",
       "    }\n",
       "\n",
       "    .dataframe thead th {\n",
       "        text-align: right;\n",
       "    }\n",
       "</style>\n",
       "<table border=\"1\" class=\"dataframe\">\n",
       "  <thead>\n",
       "    <tr style=\"text-align: right;\">\n",
       "      <th></th>\n",
       "      <th>Zone</th>\n",
       "      <th>population</th>\n",
       "      <th>Produit</th>\n",
       "      <th>Origine</th>\n",
       "      <th>Aliments pour animaux</th>\n",
       "      <th>Autres Utilisations</th>\n",
       "      <th>Disponibilité alimentaire (Kcal/personne/jour)</th>\n",
       "      <th>Disponibilité alimentaire en quantité (kg/personne/an)</th>\n",
       "      <th>Disponibilité de matière grasse en quantité (g/personne/jour)</th>\n",
       "      <th>Disponibilité de protéines en quantité (g/personne/jour)</th>\n",
       "      <th>Disponibilité intérieure</th>\n",
       "      <th>Exportations - Quantité</th>\n",
       "      <th>Importations - Quantité</th>\n",
       "      <th>Nourriture</th>\n",
       "      <th>Pertes</th>\n",
       "      <th>Production</th>\n",
       "      <th>Semences</th>\n",
       "      <th>Traitement</th>\n",
       "      <th>Variation de stock</th>\n",
       "      <th>dispo_kcal</th>\n",
       "    </tr>\n",
       "  </thead>\n",
       "  <tbody>\n",
       "    <tr>\n",
       "      <th>14116</th>\n",
       "      <td>Thaïlande</td>\n",
       "      <td>69209810.0</td>\n",
       "      <td>Abats Comestible</td>\n",
       "      <td>animale</td>\n",
       "      <td>0.0</td>\n",
       "      <td>0.000000e+00</td>\n",
       "      <td>3.0</td>\n",
       "      <td>1.11</td>\n",
       "      <td>0.09</td>\n",
       "      <td>0.56</td>\n",
       "      <td>7.400000e+13</td>\n",
       "      <td>5.000000e+12</td>\n",
       "      <td>3.300000e+13</td>\n",
       "      <td>7.500000e+13</td>\n",
       "      <td>0.000000e+00</td>\n",
       "      <td>4.500000e+13</td>\n",
       "      <td>0.0</td>\n",
       "      <td>0.000000e+00</td>\n",
       "      <td>0.000000e+00</td>\n",
       "      <td>7.578474e+10</td>\n",
       "    </tr>\n",
       "    <tr>\n",
       "      <th>14117</th>\n",
       "      <td>Thaïlande</td>\n",
       "      <td>69209810.0</td>\n",
       "      <td>Agrumes, Autres</td>\n",
       "      <td>vegetale</td>\n",
       "      <td>0.0</td>\n",
       "      <td>0.000000e+00</td>\n",
       "      <td>0.0</td>\n",
       "      <td>0.09</td>\n",
       "      <td>0.00</td>\n",
       "      <td>0.00</td>\n",
       "      <td>8.000000e+12</td>\n",
       "      <td>6.000000e+12</td>\n",
       "      <td>2.000000e+12</td>\n",
       "      <td>6.000000e+12</td>\n",
       "      <td>0.000000e+00</td>\n",
       "      <td>1.200000e+13</td>\n",
       "      <td>0.0</td>\n",
       "      <td>2.000000e+12</td>\n",
       "      <td>0.000000e+00</td>\n",
       "      <td>0.000000e+00</td>\n",
       "    </tr>\n",
       "    <tr>\n",
       "      <th>14118</th>\n",
       "      <td>Thaïlande</td>\n",
       "      <td>69209810.0</td>\n",
       "      <td>Alcool, non Comestible</td>\n",
       "      <td>vegetale</td>\n",
       "      <td>0.0</td>\n",
       "      <td>3.580000e+14</td>\n",
       "      <td>0.0</td>\n",
       "      <td>0.00</td>\n",
       "      <td>0.00</td>\n",
       "      <td>0.00</td>\n",
       "      <td>3.580000e+14</td>\n",
       "      <td>1.100000e+14</td>\n",
       "      <td>2.100000e+13</td>\n",
       "      <td>0.000000e+00</td>\n",
       "      <td>0.000000e+00</td>\n",
       "      <td>4.470000e+14</td>\n",
       "      <td>0.0</td>\n",
       "      <td>0.000000e+00</td>\n",
       "      <td>0.000000e+00</td>\n",
       "      <td>0.000000e+00</td>\n",
       "    </tr>\n",
       "    <tr>\n",
       "      <th>14119</th>\n",
       "      <td>Thaïlande</td>\n",
       "      <td>69209810.0</td>\n",
       "      <td>Aliments pour enfants</td>\n",
       "      <td>vegetale</td>\n",
       "      <td>0.0</td>\n",
       "      <td>0.000000e+00</td>\n",
       "      <td>2.0</td>\n",
       "      <td>0.18</td>\n",
       "      <td>0.01</td>\n",
       "      <td>0.08</td>\n",
       "      <td>1.200000e+13</td>\n",
       "      <td>7.000000e+12</td>\n",
       "      <td>1.900000e+13</td>\n",
       "      <td>1.200000e+13</td>\n",
       "      <td>0.000000e+00</td>\n",
       "      <td>0.000000e+00</td>\n",
       "      <td>0.0</td>\n",
       "      <td>0.000000e+00</td>\n",
       "      <td>0.000000e+00</td>\n",
       "      <td>5.052316e+10</td>\n",
       "    </tr>\n",
       "    <tr>\n",
       "      <th>14120</th>\n",
       "      <td>Thaïlande</td>\n",
       "      <td>69209810.0</td>\n",
       "      <td>Ananas</td>\n",
       "      <td>vegetale</td>\n",
       "      <td>0.0</td>\n",
       "      <td>0.000000e+00</td>\n",
       "      <td>10.0</td>\n",
       "      <td>10.02</td>\n",
       "      <td>0.04</td>\n",
       "      <td>0.08</td>\n",
       "      <td>7.820000e+14</td>\n",
       "      <td>1.449000e+15</td>\n",
       "      <td>9.000000e+12</td>\n",
       "      <td>6.710000e+14</td>\n",
       "      <td>1.100000e+14</td>\n",
       "      <td>2.209000e+15</td>\n",
       "      <td>0.0</td>\n",
       "      <td>0.000000e+00</td>\n",
       "      <td>1.300000e+13</td>\n",
       "      <td>2.526158e+11</td>\n",
       "    </tr>\n",
       "  </tbody>\n",
       "</table>\n",
       "</div>"
      ],
      "text/plain": [
       "            Zone  population                 Produit   Origine  \\\n",
       "14116  Thaïlande  69209810.0        Abats Comestible   animale   \n",
       "14117  Thaïlande  69209810.0         Agrumes, Autres  vegetale   \n",
       "14118  Thaïlande  69209810.0  Alcool, non Comestible  vegetale   \n",
       "14119  Thaïlande  69209810.0   Aliments pour enfants  vegetale   \n",
       "14120  Thaïlande  69209810.0                  Ananas  vegetale   \n",
       "\n",
       "       Aliments pour animaux  Autres Utilisations  \\\n",
       "14116                    0.0         0.000000e+00   \n",
       "14117                    0.0         0.000000e+00   \n",
       "14118                    0.0         3.580000e+14   \n",
       "14119                    0.0         0.000000e+00   \n",
       "14120                    0.0         0.000000e+00   \n",
       "\n",
       "       Disponibilité alimentaire (Kcal/personne/jour)  \\\n",
       "14116                                             3.0   \n",
       "14117                                             0.0   \n",
       "14118                                             0.0   \n",
       "14119                                             2.0   \n",
       "14120                                            10.0   \n",
       "\n",
       "       Disponibilité alimentaire en quantité (kg/personne/an)  \\\n",
       "14116                                               1.11        \n",
       "14117                                               0.09        \n",
       "14118                                               0.00        \n",
       "14119                                               0.18        \n",
       "14120                                              10.02        \n",
       "\n",
       "       Disponibilité de matière grasse en quantité (g/personne/jour)  \\\n",
       "14116                                               0.09               \n",
       "14117                                               0.00               \n",
       "14118                                               0.00               \n",
       "14119                                               0.01               \n",
       "14120                                               0.04               \n",
       "\n",
       "       Disponibilité de protéines en quantité (g/personne/jour)  \\\n",
       "14116                                               0.56          \n",
       "14117                                               0.00          \n",
       "14118                                               0.00          \n",
       "14119                                               0.08          \n",
       "14120                                               0.08          \n",
       "\n",
       "       Disponibilité intérieure  Exportations - Quantité  \\\n",
       "14116              7.400000e+13             5.000000e+12   \n",
       "14117              8.000000e+12             6.000000e+12   \n",
       "14118              3.580000e+14             1.100000e+14   \n",
       "14119              1.200000e+13             7.000000e+12   \n",
       "14120              7.820000e+14             1.449000e+15   \n",
       "\n",
       "       Importations - Quantité    Nourriture        Pertes    Production  \\\n",
       "14116             3.300000e+13  7.500000e+13  0.000000e+00  4.500000e+13   \n",
       "14117             2.000000e+12  6.000000e+12  0.000000e+00  1.200000e+13   \n",
       "14118             2.100000e+13  0.000000e+00  0.000000e+00  4.470000e+14   \n",
       "14119             1.900000e+13  1.200000e+13  0.000000e+00  0.000000e+00   \n",
       "14120             9.000000e+12  6.710000e+14  1.100000e+14  2.209000e+15   \n",
       "\n",
       "       Semences    Traitement  Variation de stock    dispo_kcal  \n",
       "14116       0.0  0.000000e+00        0.000000e+00  7.578474e+10  \n",
       "14117       0.0  2.000000e+12        0.000000e+00  0.000000e+00  \n",
       "14118       0.0  0.000000e+00        0.000000e+00  0.000000e+00  \n",
       "14119       0.0  0.000000e+00        0.000000e+00  5.052316e+10  \n",
       "14120       0.0  0.000000e+00        1.300000e+13  2.526158e+11  "
      ]
     },
     "execution_count": 119,
     "metadata": {},
     "output_type": "execute_result"
    }
   ],
   "source": [
    "#création d'un dataframe avec uniquement la Thaïlande \n",
    "Data_Thaïlande=data_population2017_dispo_alimentaire.loc[data_population2017_dispo_alimentaire['Zone']=='Thaïlande',:]\n",
    "Data_Thaïlande.head()"
   ]
  },
  {
   "cell_type": "code",
   "execution_count": 120,
   "id": "85693912",
   "metadata": {},
   "outputs": [
    {
     "data": {
      "text/plain": [
       "185    8.958268\n",
       "Name: proportion par pays, dtype: float64"
      ]
     },
     "execution_count": 120,
     "metadata": {},
     "output_type": "execute_result"
    }
   ],
   "source": [
    "#Calcul de la sous nutrition en Thaïlande\n",
    "Data.loc[Data['Zone']=='Thaïlande','proportion par pays']\n",
    "    "
   ]
  },
  {
   "cell_type": "code",
   "execution_count": 122,
   "id": "f19cd96e",
   "metadata": {},
   "outputs": [
    {
     "name": "stdout",
     "output_type": "stream",
     "text": [
      "83.41272991928014\n"
     ]
    }
   ],
   "source": [
    "# On calcule la proportion exportée en fonction de la proportion\n",
    "data_manioc=Data_Thaïlande.loc[Data_Thaïlande['Produit']=='Manioc',:]\n",
    "proportion_manioc=data_manioc['Exportations - Quantité'].sum()/data_manioc['Production'].sum()*100\n",
    "print(proportion_manioc)"
   ]
  },
  {
   "cell_type": "markdown",
   "id": "7de4e914",
   "metadata": {},
   "source": [
    "<div style=\"background-color: RGB(0,150,250);\" >\n",
    "<h2 style=\"margin: auto; padding: 20px; color:#fff; \">Etape 6 - Analyse complémentaires</h2>\n",
    "</div>"
   ]
  },
  {
   "cell_type": "code",
   "execution_count": 123,
   "id": "e42062e9",
   "metadata": {},
   "outputs": [
    {
     "data": {
      "text/plain": [
       "185    6200000.0\n",
       "Name: sous_nutrition, dtype: float64"
      ]
     },
     "execution_count": 123,
     "metadata": {},
     "output_type": "execute_result"
    }
   ],
   "source": [
    "#nombre de personnes en sous nutrition en Thaïlande\n",
    "Data.loc[Data['Zone']=='Thaïlande','sous_nutrition']\n",
    "    "
   ]
  },
  {
   "cell_type": "code",
   "execution_count": 146,
   "id": "14c2c1cf",
   "metadata": {},
   "outputs": [
    {
     "data": {
      "text/plain": [
       "2785.0"
      ]
     },
     "execution_count": 146,
     "metadata": {},
     "output_type": "execute_result"
    }
   ],
   "source": [
    "#disponibilté alimentaire par personne en Thaïlande\n",
    "Data_Thaïlande.loc[:,'Disponibilité alimentaire (Kcal/personne/jour)'].sum()"
   ]
  },
  {
   "cell_type": "code",
   "execution_count": 182,
   "id": "6189dead",
   "metadata": {},
   "outputs": [
    {
     "data": {
      "text/plain": [
       "2841.639534883721"
      ]
     },
     "execution_count": 182,
     "metadata": {},
     "output_type": "execute_result"
    }
   ],
   "source": [
    "#disponibilité moyenne mondiale\n",
    "data_population2017_dispo_alimentaire.groupby('Zone')['Disponibilité alimentaire (Kcal/personne/jour)'].sum().mean()"
   ]
  },
  {
   "cell_type": "code",
   "execution_count": null,
   "id": "0dbfb5d8",
   "metadata": {},
   "outputs": [],
   "source": []
  }
 ],
 "metadata": {
  "kernelspec": {
   "display_name": "Python 3 (ipykernel)",
   "language": "python",
   "name": "python3"
  },
  "language_info": {
   "codemirror_mode": {
    "name": "ipython",
    "version": 3
   },
   "file_extension": ".py",
   "mimetype": "text/x-python",
   "name": "python",
   "nbconvert_exporter": "python",
   "pygments_lexer": "ipython3",
   "version": "3.10.9"
  }
 },
 "nbformat": 4,
 "nbformat_minor": 5
}
